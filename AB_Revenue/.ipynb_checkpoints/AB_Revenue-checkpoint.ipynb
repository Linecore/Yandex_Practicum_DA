{
 "cells": [
  {
   "cell_type": "markdown",
   "metadata": {},
   "source": [
    "<a id = 'top'></a>\n",
    "# Исследование возможностей увеличения выручки\n",
    "Интернет-магазин \"Крупный\"\n",
    "___"
   ]
  },
  {
   "cell_type": "markdown",
   "metadata": {},
   "source": [
    "<a id = 'intro'></a>\n",
    "## [Введение](#plan)\n",
    "\n",
    "Отдел маркетинга и аналитики совместно подготовил список гипотез для увеличения выручки. Необходимо провести приоритезацию по фреймворкам ICE и RICE.\n",
    "\n",
    "В августе 2019 года проведён А/В тест. Необходимо проанализировть результаты А/В эксперемента и выяснить был ли эффект от нововведений и его свойства. По результатам необходимо принять решение по эксперементу: остановить/продолжить.\n",
    "."
   ]
  },
  {
   "cell_type": "markdown",
   "metadata": {},
   "source": [
    "<a id = 'plan'></a>\n",
    "### [План исследования](#top)\n",
    "\n",
    "1. [Введение](#intro)\n",
    "    * 1.1 [План исследования](#top)\n",
    "    * 1.2 [Описание данных](#data)\n",
    "    * 1.3 [Библиотеки и функции](#libraries)\n",
    "    * 1.4 [Загрузка данных](#loading)\n",
    "2. [Обзор и предобработка](#overview)\n",
    "    * 2.1 [Обзор](#view)\n",
    "    * 2.2 [Предобработка данных](#preprocessing)\n",
    "    * 2.3 [Итоги раздела](#final_overview)\n",
    "3. [Приоретезация гипотез](#hypothesis)\n",
    "4. [Исследование A/B теста](#research)\n",
    "    * 4.1 [Аналитическая часть](#analisis)\n",
    "    * 4.2 [Статистическая часть](#statistics)\n",
    "    * 4.3 [Итоги аналитической и статистической части](#summary)\n",
    "5. [Общий вывод по исследованию](#final_summary)"
   ]
  },
  {
   "cell_type": "markdown",
   "metadata": {},
   "source": [
    "<a id = 'data'></a>\n",
    "### [Описание данных](#plan)\n",
    "\n",
    "Датасет hypothesis.csv содержит:\n",
    "- `Hypothesis` — краткое описание гипотезы;\n",
    "- `Reach` — охват пользователей по 10-балльной шкале;\n",
    "- `Impact` — влияние на пользователей по 10-балльной шкале;\n",
    "- `Confidence` — уверенность в гипотезе по 10-балльной шкале;\n",
    "- `Efforts` — затраты ресурсов на проверку гипотезы по 10-балльной шкале. Чем больше значение Efforts, тем дороже проверка гипотезы.\n",
    "\n",
    "Датасет orders.csv содержит:\n",
    "- `transactionId` — идентификатор заказа;\n",
    "- `visitorId` — идентификатор пользователя, совершившего заказ;\n",
    "- `date` — дата, когда был совершён заказ;\n",
    "- `revenue` — выручка заказа;\n",
    "- `group` — группа A/B-теста, в которую попал заказ.\n",
    "\n",
    "Датасет visitors.csv содержит:\n",
    "- `date` — дата;\n",
    "- `group` — группа A/B-теста;\n",
    "- `visitors` — количество пользователей в указанную дату в указанной группе A/B-теста.\n"
   ]
  },
  {
   "cell_type": "markdown",
   "metadata": {},
   "source": [
    "<a id = 'libraries'></a>\n",
    "### [Библиотеки и функции](#plan)\n",
    "**Библиотеки**"
   ]
  },
  {
   "cell_type": "code",
   "execution_count": 1,
   "metadata": {},
   "outputs": [],
   "source": [
    "#-----------------------------------------DataFrame & Array\n",
    "import pandas as pd\n",
    "import numpy as np\n",
    "#-----------------------------------------Science\n",
    "from scipy import stats as st\n",
    "import math as mth\n",
    "#-----------------------------------------Visual Output \n",
    "import matplotlib.pyplot as plt\n",
    "from pandas.plotting import register_matplotlib_converters\n",
    "register_matplotlib_converters()\n",
    "from IPython.display import display, HTML\n",
    "pd.options.display.max_colwidth = 1\n",
    "#-----------------------------------------Additional\n",
    "import datetime as dt\n",
    "import os"
   ]
  },
  {
   "cell_type": "markdown",
   "metadata": {},
   "source": [
    "**Функции**"
   ]
  },
  {
   "cell_type": "code",
   "execution_count": 2,
   "metadata": {},
   "outputs": [],
   "source": [
    "def about_data(data, df_columns_list = [], limits = 'yes', limit_rows = 100000, limit_columns = 50, extension = False): \n",
    "    \"\"\"\n",
    "    V 1.1\n",
    "    \"\"\"\n",
    "#-------------------------------------------------------------------------------------------------Коррекция входных параметров\n",
    "    ##------------------------------------------------------------------------------------------------Проверка типа передачи колонок\n",
    "    if type(df_columns_list) != list:\n",
    "        df_columns_list = [df_columns_list]\n",
    "        print('⚠️ Warning. The type of inputs at the field \"df_columns_list\" should be \"list\".✅ Input value is converted to list now.')\n",
    "    ##------------------------------------------------------------------------------------------------Проверка корректности ввода limits\n",
    "    limits = limits.lower()\n",
    "    if limits == 'y':\n",
    "        limits = 'yes'\n",
    "    elif limits == 'n':\n",
    "        limits = 'no'\n",
    "    elif limits == 'r':\n",
    "        limits = 'rows'\n",
    "    elif limits == 'c':\n",
    "        limits = 'columns'\n",
    "    elif limits == 'rows' or limits == 'columns' or limits == 'yes' or limits == 'no':\n",
    "        pass\n",
    "    else:\n",
    "        limits = 'yes'\n",
    "        print('❌ Error. Incorrect input in the field \"limits\".✅ Setting set to default.')\n",
    "    ##------------------------------------------------------------------------------------------------Проверка типа и размеров ограничителей строк/столбцов \n",
    "    try:\n",
    "        limit_rows = round(limit_rows)\n",
    "    except:\n",
    "        print('❌ Error. Incorrect input in the field \"limit_rows\" (must be type \"integer\").✅ Setting set to default.')\n",
    "        limit_rows = 100000 \n",
    "    try:\n",
    "        limit_columns = round(limit_columns)\n",
    "    except: \n",
    "        print('❌ Error. Incorrect input in the field \"limit_columns\" (must be type \"integer\").✅ Setting set to default.')\n",
    "        limit_columns = 50\n",
    "    ###-----------------------------------------------------------------------------------------------Проверка корректности установки limits в зависимости от размеров ограничителей\n",
    "    if limit_rows == 0 and limit_columns != 0:\n",
    "        limits = 'columns'\n",
    "    elif limit_rows != 0 and limit_columns == 0:\n",
    "        limits = 'rows'\n",
    "    elif limit_rows == 0 and limit_columns == 0:\n",
    "        limits = 'no'\n",
    "        print('⚠️ Warning. Column and row limits are set: \"0\". ✅ The limits setting set to \"No\".')\n",
    "#-------------------------------------------------------------------------------------------------Оценка переданных данных\n",
    "    ##---------------Результаты обобщения\n",
    "    name_columns = []\n",
    "    nan_info = []\n",
    "    dupls = []\n",
    "    nuniq = []\n",
    "    total_row = True\n",
    "##---------------------------------------------------------------------------------------------Обработка и оценка в соотвествии с типом\n",
    "    if str(type(data)) == \"<class 'pandas.core.frame.DataFrame'>\":\n",
    "        print('➡️ Entered data type: DataFrame')\n",
    "        \n",
    "        if len(df_columns_list) > 0:\n",
    "            checked_columns_list = []\n",
    "            for i, name in enumerate(df_columns_list):\n",
    "                if name in data.columns:\n",
    "                    checked_columns_list.append(name)\n",
    "                else:\n",
    "                    print(f\"❌ Error. The column '{name}' at position {i+1} is not part of entered DataFrame. ✅ Column was ignored.\")\n",
    "            if len(checked_columns_list) == 0:\n",
    "                checked_columns_list = data.columns\n",
    "                print(\"⚠️ Warning. All entered columns was ignored. ✅ All available columns will be used.\")\n",
    "            data = data[checked_columns_list]\n",
    "            if len(df_columns_list) == 1:\n",
    "                total_row = False\n",
    "            else:\n",
    "                total_row = True   \n",
    "                \n",
    "        rows_size, columns_size = data.shape \n",
    "\n",
    "        if (limits == 'yes' or limits == 'rows') and rows_size > limit_rows:\n",
    "\n",
    "            data = data.loc[data.index[:limit_rows]]\n",
    "            print(f'✅ Row limit set: {limit_rows}')\n",
    "            \n",
    "        if (limits == 'yes' or limits == 'columns') and columns_size > limit_columns:\n",
    "            data = data[data.columns[:limit_columns]]\n",
    "            print(f'✅ Сolumn limit set: {limit_columns}')\n",
    "\n",
    "        for column_name in data.columns:\n",
    "            name_columns.append(column_name)\n",
    "            nan_info.append(data[column_name].isna().sum())\n",
    "            dupls.append(data[data[column_name].isna() == False][column_name].duplicated().sum())\n",
    "            nuniq.append(data[column_name].nunique())\n",
    "            \n",
    "        cells = (data.shape[0]*data.shape[1])\n",
    "        \n",
    "        if extension:\n",
    "            try:\n",
    "                about_data_visual_extention(data, df_columns_list = [], limits = limits, limit_rows = limit_rows, limit_columns = limit_columns)\n",
    "            except:\n",
    "                print(\"❌ Error. Visual extention is not available\")\n",
    "                \n",
    "    elif str(type(data)) == \"<class 'pandas.core.series.Series'>\":\n",
    "\n",
    "        print('➡️ Entered data type: Series')\n",
    "        if len(df_columns_list) > 0: \n",
    "            print(\"❌ Error. Series don't have columns. ✅ Field 'df_columns_list' was passed.\")\n",
    "            \n",
    "        if (limits == 'yes' or limits == 'rows') and len(data) > limit_rows:\n",
    "            data = data.loc[data.index[:limit_rows]]  \n",
    "            print(f'✅ Row limit set: {limit_rows}')\n",
    "          \n",
    "        nan_info = data.isna().sum()\n",
    "        name_columns.append('Series')\n",
    "        dupls.append(data[data.isna() == False].duplicated().sum())\n",
    "        nuniq.append(data.nunique())\n",
    "        cells = data.shape[0]\n",
    "        total_row = False\n",
    "        \n",
    "        if extension:\n",
    "            try:\n",
    "                about_data_visual_extention(data, df_columns_list = [], limits = limits, limit_rows = limit_rows, limit_columns = limit_columns)\n",
    "            except:\n",
    "                print(\"❌ Error. Visual extention is not available\")\n",
    "                \n",
    "    elif data == \"author\":\n",
    "        return print('➡️ Hi there! I wrote this code to help people do data analysis. Together we can achieve more!\\n✅ Want to help or discuss? My github:','https://github.com/Linecore')\n",
    "    \n",
    "    else: #For Other Types of Data Storage\n",
    "        return print('❌ Error. Incorrect type of data entered. Pandas Dataframe or Series only for now')\n",
    "#----------------------------------------------------------------------------------------------------------Сбор обобщённой информации в фрейм для вывода      \n",
    "    info_df = pd.DataFrame(data = nan_info, index = name_columns, columns = ['total_nan'])\n",
    "    info_df['%_nan'] = round((info_df['total_nan'] / data.shape[0])*100,2)\n",
    "    info_df['duplicated'] = dupls\n",
    "    info_df['nunique'] = nuniq\n",
    "    info_df['non_null'] = data.shape[0] - info_df['total_nan']\n",
    "    info_df = info_df.sort_values(by='total_nan')\n",
    "    info_df['type'] = data.dtypes\n",
    "    if total_row:\n",
    "        info_df.loc[f'TOTAL: {len(info_df)}'] = [info_df[info_df['total_nan'] != 0]['total_nan'].count(),  \n",
    "                                                 round((info_df['total_nan'].sum()/cells)*100,2),\n",
    "                                                 data.duplicated().sum(),\n",
    "                                                 data.shape[0] - data.duplicated().sum(),\n",
    "                                                 data.dropna().shape[0],\n",
    "                                                 info_df['type'].nunique()]\n",
    "    return info_df"
   ]
  },
  {
   "cell_type": "markdown",
   "metadata": {},
   "source": [
    "<a id = 'loading'></a>\n",
    "### [Загрузка данных](#plan)"
   ]
  },
  {
   "cell_type": "code",
   "execution_count": 3,
   "metadata": {},
   "outputs": [
    {
     "name": "stdout",
     "output_type": "stream",
     "text": [
      "🖥️ \u001b[1m\u001b[92m\u001b[4mLoad from localhost.\u001b[0m\n"
     ]
    }
   ],
   "source": [
    "#---------------------------------------------------------------------------------Local Paths\n",
    "pathA1 = '/dir'\n",
    "pathA2 = '/dir'\n",
    "pathA3 = '/dir'\n",
    "#---------------------------------------------------------------------------------Online Paths\n",
    "pathB1 = 'https://'\n",
    "pathB2 = 'https://'\n",
    "pathB3 = 'https://'\n",
    "#---------------------------------------------------------------------------------Loading...\n",
    "if os.path.exists(pathA1) and os.path.exists(pathA2) and os.path.exists(pathA3):\n",
    "    visitors = pd.read_csv(pathA1)\n",
    "    orders = pd.read_csv(pathA2)\n",
    "    hypothesis  = pd.read_csv(pathA3)\n",
    "    print('🖥️ \\033[1m\\033[92m\\033[4mLoad from localhost.\\033[0m')\n",
    "else:\n",
    "    try:\n",
    "        visitors = pd.read_csv(pathB1)\n",
    "        orders = pd.read_csv(pathB2)\n",
    "        hypothesis  = pd.read_csv(pathB3)\n",
    "        print('🌐 \\033[1m\\033[94m\\033[4mLoad from online.\\033[0m')\n",
    "    except:\n",
    "        print('🔌 \\033[1m\\033[91m\\033[4mSome local files are missing. Loads from online are not available. Check paths or ping servers.\\033[0m')"
   ]
  },
  {
   "cell_type": "markdown",
   "metadata": {},
   "source": [
    "___\n",
    "<a id = 'overview'></a>\n",
    "## [Обзор и предобработка](#plan)"
   ]
  },
  {
   "cell_type": "markdown",
   "metadata": {},
   "source": [
    "<a id = 'view'></a>\n",
    "### [Обзор](#plan)\n",
    "**Датафрейм hypothesis**"
   ]
  },
  {
   "cell_type": "code",
   "execution_count": 4,
   "metadata": {},
   "outputs": [
    {
     "name": "stdout",
     "output_type": "stream",
     "text": [
      "<class 'pandas.core.frame.DataFrame'>\n",
      "RangeIndex: 9 entries, 0 to 8\n",
      "Data columns (total 5 columns):\n",
      " #   Column      Non-Null Count  Dtype \n",
      "---  ------      --------------  ----- \n",
      " 0   Hypothesis  9 non-null      object\n",
      " 1   Reach       9 non-null      int64 \n",
      " 2   Impact      9 non-null      int64 \n",
      " 3   Confidence  9 non-null      int64 \n",
      " 4   Efforts     9 non-null      int64 \n",
      "dtypes: int64(4), object(1)\n",
      "memory usage: 488.0+ bytes\n",
      "➡️ Entered data type: DataFrame\n"
     ]
    },
    {
     "data": {
      "text/plain": [
       "None"
      ]
     },
     "metadata": {},
     "output_type": "display_data"
    },
    {
     "data": {
      "text/html": [
       "<div>\n",
       "<style scoped>\n",
       "    .dataframe tbody tr th:only-of-type {\n",
       "        vertical-align: middle;\n",
       "    }\n",
       "\n",
       "    .dataframe tbody tr th {\n",
       "        vertical-align: top;\n",
       "    }\n",
       "\n",
       "    .dataframe thead th {\n",
       "        text-align: right;\n",
       "    }\n",
       "</style>\n",
       "<table border=\"1\" class=\"dataframe\">\n",
       "  <thead>\n",
       "    <tr style=\"text-align: right;\">\n",
       "      <th></th>\n",
       "      <th>total_nan</th>\n",
       "      <th>%_nan</th>\n",
       "      <th>duplicated</th>\n",
       "      <th>nunique</th>\n",
       "      <th>non_null</th>\n",
       "      <th>type</th>\n",
       "    </tr>\n",
       "  </thead>\n",
       "  <tbody>\n",
       "    <tr>\n",
       "      <th>Hypothesis</th>\n",
       "      <td>0.0</td>\n",
       "      <td>0.0</td>\n",
       "      <td>0.0</td>\n",
       "      <td>9.0</td>\n",
       "      <td>9.0</td>\n",
       "      <td>object</td>\n",
       "    </tr>\n",
       "    <tr>\n",
       "      <th>Reach</th>\n",
       "      <td>0.0</td>\n",
       "      <td>0.0</td>\n",
       "      <td>3.0</td>\n",
       "      <td>6.0</td>\n",
       "      <td>9.0</td>\n",
       "      <td>int64</td>\n",
       "    </tr>\n",
       "    <tr>\n",
       "      <th>Impact</th>\n",
       "      <td>0.0</td>\n",
       "      <td>0.0</td>\n",
       "      <td>2.0</td>\n",
       "      <td>7.0</td>\n",
       "      <td>9.0</td>\n",
       "      <td>int64</td>\n",
       "    </tr>\n",
       "    <tr>\n",
       "      <th>Confidence</th>\n",
       "      <td>0.0</td>\n",
       "      <td>0.0</td>\n",
       "      <td>2.0</td>\n",
       "      <td>7.0</td>\n",
       "      <td>9.0</td>\n",
       "      <td>int64</td>\n",
       "    </tr>\n",
       "    <tr>\n",
       "      <th>Efforts</th>\n",
       "      <td>0.0</td>\n",
       "      <td>0.0</td>\n",
       "      <td>3.0</td>\n",
       "      <td>6.0</td>\n",
       "      <td>9.0</td>\n",
       "      <td>int64</td>\n",
       "    </tr>\n",
       "    <tr>\n",
       "      <th>TOTAL: 5</th>\n",
       "      <td>0.0</td>\n",
       "      <td>0.0</td>\n",
       "      <td>0.0</td>\n",
       "      <td>9.0</td>\n",
       "      <td>9.0</td>\n",
       "      <td>2.0</td>\n",
       "    </tr>\n",
       "  </tbody>\n",
       "</table>\n",
       "</div>"
      ],
      "text/plain": [
       "            total_nan  %_nan  duplicated  nunique  non_null    type\n",
       "Hypothesis  0.0        0.0    0.0         9.0      9.0       object\n",
       "Reach       0.0        0.0    3.0         6.0      9.0       int64 \n",
       "Impact      0.0        0.0    2.0         7.0      9.0       int64 \n",
       "Confidence  0.0        0.0    2.0         7.0      9.0       int64 \n",
       "Efforts     0.0        0.0    3.0         6.0      9.0       int64 \n",
       "TOTAL: 5    0.0        0.0    0.0         9.0      9.0       2.0   "
      ]
     },
     "metadata": {},
     "output_type": "display_data"
    },
    {
     "data": {
      "text/html": [
       "<div>\n",
       "<style scoped>\n",
       "    .dataframe tbody tr th:only-of-type {\n",
       "        vertical-align: middle;\n",
       "    }\n",
       "\n",
       "    .dataframe tbody tr th {\n",
       "        vertical-align: top;\n",
       "    }\n",
       "\n",
       "    .dataframe thead th {\n",
       "        text-align: right;\n",
       "    }\n",
       "</style>\n",
       "<table border=\"1\" class=\"dataframe\">\n",
       "  <thead>\n",
       "    <tr style=\"text-align: right;\">\n",
       "      <th></th>\n",
       "      <th>Hypothesis</th>\n",
       "      <th>Reach</th>\n",
       "      <th>Impact</th>\n",
       "      <th>Confidence</th>\n",
       "      <th>Efforts</th>\n",
       "    </tr>\n",
       "  </thead>\n",
       "  <tbody>\n",
       "    <tr>\n",
       "      <th>0</th>\n",
       "      <td>Добавить два новых канала привлечения трафика, что позволит привлекать на 30% больше пользователей</td>\n",
       "      <td>3</td>\n",
       "      <td>10</td>\n",
       "      <td>8</td>\n",
       "      <td>6</td>\n",
       "    </tr>\n",
       "    <tr>\n",
       "      <th>1</th>\n",
       "      <td>Запустить собственную службу доставки, что сократит срок доставки заказов</td>\n",
       "      <td>2</td>\n",
       "      <td>5</td>\n",
       "      <td>4</td>\n",
       "      <td>10</td>\n",
       "    </tr>\n",
       "    <tr>\n",
       "      <th>2</th>\n",
       "      <td>Добавить блоки рекомендаций товаров на сайт интернет магазина, чтобы повысить конверсию и средний чек заказа</td>\n",
       "      <td>8</td>\n",
       "      <td>3</td>\n",
       "      <td>7</td>\n",
       "      <td>3</td>\n",
       "    </tr>\n",
       "    <tr>\n",
       "      <th>3</th>\n",
       "      <td>Изменить структура категорий, что увеличит конверсию, т.к. пользователи быстрее найдут нужный товар</td>\n",
       "      <td>8</td>\n",
       "      <td>3</td>\n",
       "      <td>3</td>\n",
       "      <td>8</td>\n",
       "    </tr>\n",
       "    <tr>\n",
       "      <th>4</th>\n",
       "      <td>Изменить цвет фона главной страницы, чтобы увеличить вовлеченность пользователей</td>\n",
       "      <td>3</td>\n",
       "      <td>1</td>\n",
       "      <td>1</td>\n",
       "      <td>1</td>\n",
       "    </tr>\n",
       "    <tr>\n",
       "      <th>5</th>\n",
       "      <td>Добавить страницу отзывов клиентов о магазине, что позволит увеличить количество заказов</td>\n",
       "      <td>3</td>\n",
       "      <td>2</td>\n",
       "      <td>2</td>\n",
       "      <td>3</td>\n",
       "    </tr>\n",
       "    <tr>\n",
       "      <th>6</th>\n",
       "      <td>Показать на главной странице баннеры с актуальными акциями и распродажами, чтобы увеличить конверсию</td>\n",
       "      <td>5</td>\n",
       "      <td>3</td>\n",
       "      <td>8</td>\n",
       "      <td>3</td>\n",
       "    </tr>\n",
       "    <tr>\n",
       "      <th>7</th>\n",
       "      <td>Добавить форму подписки на все основные страницы, чтобы собрать базу клиентов для email-рассылок</td>\n",
       "      <td>10</td>\n",
       "      <td>7</td>\n",
       "      <td>8</td>\n",
       "      <td>5</td>\n",
       "    </tr>\n",
       "    <tr>\n",
       "      <th>8</th>\n",
       "      <td>Запустить акцию, дающую скидку на товар в день рождения</td>\n",
       "      <td>1</td>\n",
       "      <td>9</td>\n",
       "      <td>9</td>\n",
       "      <td>5</td>\n",
       "    </tr>\n",
       "  </tbody>\n",
       "</table>\n",
       "</div>"
      ],
      "text/plain": [
       "                                                                                                     Hypothesis  \\\n",
       "0  Добавить два новых канала привлечения трафика, что позволит привлекать на 30% больше пользователей             \n",
       "1  Запустить собственную службу доставки, что сократит срок доставки заказов                                      \n",
       "2  Добавить блоки рекомендаций товаров на сайт интернет магазина, чтобы повысить конверсию и средний чек заказа   \n",
       "3  Изменить структура категорий, что увеличит конверсию, т.к. пользователи быстрее найдут нужный товар            \n",
       "4  Изменить цвет фона главной страницы, чтобы увеличить вовлеченность пользователей                               \n",
       "5  Добавить страницу отзывов клиентов о магазине, что позволит увеличить количество заказов                       \n",
       "6  Показать на главной странице баннеры с актуальными акциями и распродажами, чтобы увеличить конверсию           \n",
       "7  Добавить форму подписки на все основные страницы, чтобы собрать базу клиентов для email-рассылок               \n",
       "8  Запустить акцию, дающую скидку на товар в день рождения                                                        \n",
       "\n",
       "   Reach  Impact  Confidence  Efforts  \n",
       "0  3      10      8           6        \n",
       "1  2      5       4           10       \n",
       "2  8      3       7           3        \n",
       "3  8      3       3           8        \n",
       "4  3      1       1           1        \n",
       "5  3      2       2           3        \n",
       "6  5      3       8           3        \n",
       "7  10     7       8           5        \n",
       "8  1      9       9           5        "
      ]
     },
     "metadata": {},
     "output_type": "display_data"
    }
   ],
   "source": [
    "display(hypothesis.info(),about_data(hypothesis), hypothesis)"
   ]
  },
  {
   "cell_type": "markdown",
   "metadata": {},
   "source": [
    "Все подготовленные 9 гипотез на месте.\n",
    "\n",
    "**Датафрейм orders.**"
   ]
  },
  {
   "cell_type": "code",
   "execution_count": 5,
   "metadata": {},
   "outputs": [
    {
     "name": "stdout",
     "output_type": "stream",
     "text": [
      "<class 'pandas.core.frame.DataFrame'>\n",
      "RangeIndex: 1197 entries, 0 to 1196\n",
      "Data columns (total 5 columns):\n",
      " #   Column         Non-Null Count  Dtype \n",
      "---  ------         --------------  ----- \n",
      " 0   transactionId  1197 non-null   int64 \n",
      " 1   visitorId      1197 non-null   int64 \n",
      " 2   date           1197 non-null   object\n",
      " 3   revenue        1197 non-null   int64 \n",
      " 4   group          1197 non-null   object\n",
      "dtypes: int64(3), object(2)\n",
      "memory usage: 46.9+ KB\n",
      "➡️ Entered data type: DataFrame\n"
     ]
    },
    {
     "data": {
      "text/plain": [
       "None"
      ]
     },
     "metadata": {},
     "output_type": "display_data"
    },
    {
     "data": {
      "text/html": [
       "<div>\n",
       "<style scoped>\n",
       "    .dataframe tbody tr th:only-of-type {\n",
       "        vertical-align: middle;\n",
       "    }\n",
       "\n",
       "    .dataframe tbody tr th {\n",
       "        vertical-align: top;\n",
       "    }\n",
       "\n",
       "    .dataframe thead th {\n",
       "        text-align: right;\n",
       "    }\n",
       "</style>\n",
       "<table border=\"1\" class=\"dataframe\">\n",
       "  <thead>\n",
       "    <tr style=\"text-align: right;\">\n",
       "      <th></th>\n",
       "      <th>total_nan</th>\n",
       "      <th>%_nan</th>\n",
       "      <th>duplicated</th>\n",
       "      <th>nunique</th>\n",
       "      <th>non_null</th>\n",
       "      <th>type</th>\n",
       "    </tr>\n",
       "  </thead>\n",
       "  <tbody>\n",
       "    <tr>\n",
       "      <th>transactionId</th>\n",
       "      <td>0.0</td>\n",
       "      <td>0.0</td>\n",
       "      <td>0.0</td>\n",
       "      <td>1197.0</td>\n",
       "      <td>1197.0</td>\n",
       "      <td>int64</td>\n",
       "    </tr>\n",
       "    <tr>\n",
       "      <th>visitorId</th>\n",
       "      <td>0.0</td>\n",
       "      <td>0.0</td>\n",
       "      <td>166.0</td>\n",
       "      <td>1031.0</td>\n",
       "      <td>1197.0</td>\n",
       "      <td>int64</td>\n",
       "    </tr>\n",
       "    <tr>\n",
       "      <th>date</th>\n",
       "      <td>0.0</td>\n",
       "      <td>0.0</td>\n",
       "      <td>1166.0</td>\n",
       "      <td>31.0</td>\n",
       "      <td>1197.0</td>\n",
       "      <td>object</td>\n",
       "    </tr>\n",
       "    <tr>\n",
       "      <th>revenue</th>\n",
       "      <td>0.0</td>\n",
       "      <td>0.0</td>\n",
       "      <td>484.0</td>\n",
       "      <td>713.0</td>\n",
       "      <td>1197.0</td>\n",
       "      <td>int64</td>\n",
       "    </tr>\n",
       "    <tr>\n",
       "      <th>group</th>\n",
       "      <td>0.0</td>\n",
       "      <td>0.0</td>\n",
       "      <td>1195.0</td>\n",
       "      <td>2.0</td>\n",
       "      <td>1197.0</td>\n",
       "      <td>object</td>\n",
       "    </tr>\n",
       "    <tr>\n",
       "      <th>TOTAL: 5</th>\n",
       "      <td>0.0</td>\n",
       "      <td>0.0</td>\n",
       "      <td>0.0</td>\n",
       "      <td>1197.0</td>\n",
       "      <td>1197.0</td>\n",
       "      <td>2.0</td>\n",
       "    </tr>\n",
       "  </tbody>\n",
       "</table>\n",
       "</div>"
      ],
      "text/plain": [
       "               total_nan  %_nan  duplicated  nunique  non_null    type\n",
       "transactionId  0.0        0.0    0.0         1197.0   1197.0    int64 \n",
       "visitorId      0.0        0.0    166.0       1031.0   1197.0    int64 \n",
       "date           0.0        0.0    1166.0      31.0     1197.0    object\n",
       "revenue        0.0        0.0    484.0       713.0    1197.0    int64 \n",
       "group          0.0        0.0    1195.0      2.0      1197.0    object\n",
       "TOTAL: 5       0.0        0.0    0.0         1197.0   1197.0    2.0   "
      ]
     },
     "metadata": {},
     "output_type": "display_data"
    },
    {
     "data": {
      "text/html": [
       "<div>\n",
       "<style scoped>\n",
       "    .dataframe tbody tr th:only-of-type {\n",
       "        vertical-align: middle;\n",
       "    }\n",
       "\n",
       "    .dataframe tbody tr th {\n",
       "        vertical-align: top;\n",
       "    }\n",
       "\n",
       "    .dataframe thead th {\n",
       "        text-align: right;\n",
       "    }\n",
       "</style>\n",
       "<table border=\"1\" class=\"dataframe\">\n",
       "  <thead>\n",
       "    <tr style=\"text-align: right;\">\n",
       "      <th></th>\n",
       "      <th>transactionId</th>\n",
       "      <th>visitorId</th>\n",
       "      <th>date</th>\n",
       "      <th>revenue</th>\n",
       "      <th>group</th>\n",
       "    </tr>\n",
       "  </thead>\n",
       "  <tbody>\n",
       "    <tr>\n",
       "      <th>0</th>\n",
       "      <td>3667963787</td>\n",
       "      <td>3312258926</td>\n",
       "      <td>2019-08-15</td>\n",
       "      <td>1650</td>\n",
       "      <td>B</td>\n",
       "    </tr>\n",
       "    <tr>\n",
       "      <th>1</th>\n",
       "      <td>2804400009</td>\n",
       "      <td>3642806036</td>\n",
       "      <td>2019-08-15</td>\n",
       "      <td>730</td>\n",
       "      <td>B</td>\n",
       "    </tr>\n",
       "    <tr>\n",
       "      <th>2</th>\n",
       "      <td>2961555356</td>\n",
       "      <td>4069496402</td>\n",
       "      <td>2019-08-15</td>\n",
       "      <td>400</td>\n",
       "      <td>A</td>\n",
       "    </tr>\n",
       "    <tr>\n",
       "      <th>3</th>\n",
       "      <td>3797467345</td>\n",
       "      <td>1196621759</td>\n",
       "      <td>2019-08-15</td>\n",
       "      <td>9759</td>\n",
       "      <td>B</td>\n",
       "    </tr>\n",
       "    <tr>\n",
       "      <th>4</th>\n",
       "      <td>2282983706</td>\n",
       "      <td>2322279887</td>\n",
       "      <td>2019-08-15</td>\n",
       "      <td>2308</td>\n",
       "      <td>B</td>\n",
       "    </tr>\n",
       "  </tbody>\n",
       "</table>\n",
       "</div>"
      ],
      "text/plain": [
       "   transactionId   visitorId        date  revenue group\n",
       "0  3667963787     3312258926  2019-08-15  1650     B   \n",
       "1  2804400009     3642806036  2019-08-15  730      B   \n",
       "2  2961555356     4069496402  2019-08-15  400      A   \n",
       "3  3797467345     1196621759  2019-08-15  9759     B   \n",
       "4  2282983706     2322279887  2019-08-15  2308     B   "
      ]
     },
     "metadata": {},
     "output_type": "display_data"
    },
    {
     "data": {
      "text/html": [
       "<div>\n",
       "<style scoped>\n",
       "    .dataframe tbody tr th:only-of-type {\n",
       "        vertical-align: middle;\n",
       "    }\n",
       "\n",
       "    .dataframe tbody tr th {\n",
       "        vertical-align: top;\n",
       "    }\n",
       "\n",
       "    .dataframe thead th {\n",
       "        text-align: right;\n",
       "    }\n",
       "</style>\n",
       "<table border=\"1\" class=\"dataframe\">\n",
       "  <thead>\n",
       "    <tr style=\"text-align: right;\">\n",
       "      <th></th>\n",
       "      <th>days</th>\n",
       "    </tr>\n",
       "    <tr>\n",
       "      <th>group</th>\n",
       "      <th></th>\n",
       "    </tr>\n",
       "  </thead>\n",
       "  <tbody>\n",
       "    <tr>\n",
       "      <th>A</th>\n",
       "      <td>31</td>\n",
       "    </tr>\n",
       "    <tr>\n",
       "      <th>B</th>\n",
       "      <td>31</td>\n",
       "    </tr>\n",
       "  </tbody>\n",
       "</table>\n",
       "</div>"
      ],
      "text/plain": [
       "       days\n",
       "group      \n",
       "A      31  \n",
       "B      31  "
      ]
     },
     "metadata": {},
     "output_type": "display_data"
    },
    {
     "data": {
      "text/plain": [
       "'Период совершения заказов: с 2019-08-01 по 2019-08-31.'"
      ]
     },
     "metadata": {},
     "output_type": "display_data"
    }
   ],
   "source": [
    "display(orders.info(),about_data(orders), orders.head(),\n",
    "        orders.groupby('group').agg({'date':'nunique'}).rename(columns = {'date':'days'}),\n",
    "        f\"Период совершения заказов: с {orders['date'].min()} по {orders['date'].max()}.\")"
   ]
  },
  {
   "cell_type": "markdown",
   "metadata": {},
   "source": [
    "Пропусков нет. Колонку date необходимо привести к формату даты. Данные содержаться за пероид: с 2019-08-01 по 2019-08-31. Это весь август месяц. Обе группы имеют данные за предоставленный период.\n",
    "\n",
    "Проверим разделение потока траффика на группы."
   ]
  },
  {
   "cell_type": "code",
   "execution_count": 6,
   "metadata": {},
   "outputs": [
    {
     "data": {
      "text/html": [
       "<div>\n",
       "<style scoped>\n",
       "    .dataframe tbody tr th:only-of-type {\n",
       "        vertical-align: middle;\n",
       "    }\n",
       "\n",
       "    .dataframe tbody tr th {\n",
       "        vertical-align: top;\n",
       "    }\n",
       "\n",
       "    .dataframe thead th {\n",
       "        text-align: right;\n",
       "    }\n",
       "</style>\n",
       "<table border=\"1\" class=\"dataframe\">\n",
       "  <thead>\n",
       "    <tr style=\"text-align: right;\">\n",
       "      <th></th>\n",
       "      <th>transactionId</th>\n",
       "      <th>visitorId</th>\n",
       "      <th>date</th>\n",
       "      <th>revenue</th>\n",
       "      <th>group</th>\n",
       "    </tr>\n",
       "  </thead>\n",
       "  <tbody>\n",
       "    <tr>\n",
       "      <th>703</th>\n",
       "      <td>4293855558</td>\n",
       "      <td>8300375</td>\n",
       "      <td>2019-08-07</td>\n",
       "      <td>1790</td>\n",
       "      <td>A</td>\n",
       "    </tr>\n",
       "    <tr>\n",
       "      <th>71</th>\n",
       "      <td>3679129301</td>\n",
       "      <td>8300375</td>\n",
       "      <td>2019-08-01</td>\n",
       "      <td>10510</td>\n",
       "      <td>B</td>\n",
       "    </tr>\n",
       "    <tr>\n",
       "      <th>246</th>\n",
       "      <td>437656952</td>\n",
       "      <td>199603092</td>\n",
       "      <td>2019-08-02</td>\n",
       "      <td>3488</td>\n",
       "      <td>B</td>\n",
       "    </tr>\n",
       "    <tr>\n",
       "      <th>1013</th>\n",
       "      <td>83566152</td>\n",
       "      <td>232979603</td>\n",
       "      <td>2019-08-31</td>\n",
       "      <td>60</td>\n",
       "      <td>A</td>\n",
       "    </tr>\n",
       "    <tr>\n",
       "      <th>1009</th>\n",
       "      <td>2670069237</td>\n",
       "      <td>232979603</td>\n",
       "      <td>2019-08-31</td>\n",
       "      <td>2640</td>\n",
       "      <td>B</td>\n",
       "    </tr>\n",
       "    <tr>\n",
       "      <th>27</th>\n",
       "      <td>1630050528</td>\n",
       "      <td>237748145</td>\n",
       "      <td>2019-08-15</td>\n",
       "      <td>7620</td>\n",
       "      <td>B</td>\n",
       "    </tr>\n",
       "    <tr>\n",
       "      <th>1093</th>\n",
       "      <td>3894437543</td>\n",
       "      <td>276558944</td>\n",
       "      <td>2019-08-12</td>\n",
       "      <td>5050</td>\n",
       "      <td>A</td>\n",
       "    </tr>\n",
       "    <tr>\n",
       "      <th>85</th>\n",
       "      <td>1701653566</td>\n",
       "      <td>276558944</td>\n",
       "      <td>2019-08-22</td>\n",
       "      <td>12350</td>\n",
       "      <td>B</td>\n",
       "    </tr>\n",
       "    <tr>\n",
       "      <th>453</th>\n",
       "      <td>3075639014</td>\n",
       "      <td>351125977</td>\n",
       "      <td>2019-08-06</td>\n",
       "      <td>4485</td>\n",
       "      <td>A</td>\n",
       "    </tr>\n",
       "    <tr>\n",
       "      <th>23</th>\n",
       "      <td>4252514150</td>\n",
       "      <td>351125977</td>\n",
       "      <td>2019-08-15</td>\n",
       "      <td>15185</td>\n",
       "      <td>B</td>\n",
       "    </tr>\n",
       "  </tbody>\n",
       "</table>\n",
       "</div>"
      ],
      "text/plain": [
       "      transactionId  visitorId        date  revenue group\n",
       "703   4293855558     8300375    2019-08-07  1790     A   \n",
       "71    3679129301     8300375    2019-08-01  10510    B   \n",
       "246   437656952      199603092  2019-08-02  3488     B   \n",
       "1013  83566152       232979603  2019-08-31  60       A   \n",
       "1009  2670069237     232979603  2019-08-31  2640     B   \n",
       "27    1630050528     237748145  2019-08-15  7620     B   \n",
       "1093  3894437543     276558944  2019-08-12  5050     A   \n",
       "85    1701653566     276558944  2019-08-22  12350    B   \n",
       "453   3075639014     351125977  2019-08-06  4485     A   \n",
       "23    4252514150     351125977  2019-08-15  15185    B   "
      ]
     },
     "metadata": {},
     "output_type": "display_data"
    },
    {
     "data": {
      "text/plain": [
       "53"
      ]
     },
     "metadata": {},
     "output_type": "display_data"
    }
   ],
   "source": [
    "dupls_all = orders[orders.duplicated(subset = ['visitorId'], keep = False)]\n",
    "splitErrorAB = dupls_all[~dupls_all.duplicated(subset = ['visitorId','group'], keep = False)]\n",
    "display(splitErrorAB.sort_values(by = 'visitorId').head(10),splitErrorAB['visitorId'].nunique())"
   ]
  },
  {
   "cell_type": "markdown",
   "metadata": {},
   "source": [
    "53 пользователя попали и в А и в В группы. Такие пользователи вносят искажение в исследование после смены группы. Их прийдётся убрать отовсюду \"до её смены\" для чистоты эксперимента. Таким образом мы исключим влияние искажений возникших после изменения группы. Выделим записи произошедших после изменения группы в отдельную переменную и оценим теряемую информацию."
   ]
  },
  {
   "cell_type": "code",
   "execution_count": 7,
   "metadata": {},
   "outputs": [],
   "source": [
    "drop_idx = []\n",
    "#Поочерёдно смотрит каждого дублирующегося посетителя на \"момент смены группы\". Даты отсортированны с ранней к поздней.\n",
    "#Момент смены и далее - закидывается в список для экстракции.\n",
    "for visID in splitErrorAB['visitorId'].unique():\n",
    "    work_data = orders[orders['visitorId'] == visID].sort_values(by = 'date')\n",
    "    for i in range(len(work_data)):\n",
    "        if i+1 < len(work_data):\n",
    "            if work_data.loc[work_data.index[i],'group'] != work_data.loc[work_data.index[i+1],'group']:\n",
    "                drop_idx.extend(list(work_data.loc[work_data.index[i+1]:work_data.index[len(work_data)-1],:].index))\n",
    "                break "
   ]
  },
  {
   "cell_type": "code",
   "execution_count": 8,
   "metadata": {},
   "outputs": [
    {
     "name": "stdout",
     "output_type": "stream",
     "text": [
      "Строк к удалению: 73, 6.1 %\n",
      " Процент от суммарной выручки: 4.93 %\n",
      " Процент от всех заказов: 6.1 %\n",
      "\n",
      "Процент уникальных пользователей из группы A: 5.77 %\n",
      " Процент от суммарной выручки группы A: 4.22 %\n",
      " Процент от всех заказов (равно записей) группы A: 6.64 %\n",
      "\n",
      "Процент уникальных пользователей из группы B: 5.46 %\n",
      " Процент от суммарной выручки группы B: 5.43 %\n",
      " Процент от всех заказов (равно записей) группы B: 5.62 %\n",
      "\n"
     ]
    }
   ],
   "source": [
    "x = orders.loc[drop_idx]\n",
    "print(f\"Строк к удалению: {x.shape[0]}, {round((x.shape[0]/orders.shape[0])*100,2)} %\\n\",\n",
    "      f\"Процент от суммарной выручки: {round((x['revenue'].sum()/orders['revenue'].sum())*100,2)} %\\n\",\n",
    "     f\"Процент от всех заказов: {round((x['transactionId'].count()/orders['transactionId'].count())*100,2)} %\\n\")\n",
    "for i in ['A','B']:      \n",
    "     print (f\"Процент уникальных пользователей из группы {i}: {round(x[x['group']==i]['visitorId'].nunique()/orders[orders['group']==i]['visitorId'].nunique()*100,2)} %\\n\",\n",
    "     f\"Процент от суммарной выручки группы {i}: {round((x[x['group']==i]['revenue'].sum()/orders[orders['group']==i]['revenue'].sum())*100,2)} %\\n\",\n",
    "     f\"Процент от всех заказов (равно записей) группы {i}: {round((x[x['group']==i]['transactionId'].count()/orders[orders['group']==i]['transactionId'].count())*100,2)} %\\n\",)     "
   ]
  },
  {
   "cell_type": "markdown",
   "metadata": {},
   "source": [
    "**Датафрейм visitors.**"
   ]
  },
  {
   "cell_type": "code",
   "execution_count": 9,
   "metadata": {},
   "outputs": [
    {
     "name": "stdout",
     "output_type": "stream",
     "text": [
      "<class 'pandas.core.frame.DataFrame'>\n",
      "RangeIndex: 62 entries, 0 to 61\n",
      "Data columns (total 3 columns):\n",
      " #   Column    Non-Null Count  Dtype \n",
      "---  ------    --------------  ----- \n",
      " 0   date      62 non-null     object\n",
      " 1   group     62 non-null     object\n",
      " 2   visitors  62 non-null     int64 \n",
      "dtypes: int64(1), object(2)\n",
      "memory usage: 1.6+ KB\n",
      "➡️ Entered data type: DataFrame\n"
     ]
    },
    {
     "data": {
      "text/plain": [
       "None"
      ]
     },
     "metadata": {},
     "output_type": "display_data"
    },
    {
     "data": {
      "text/html": [
       "<div>\n",
       "<style scoped>\n",
       "    .dataframe tbody tr th:only-of-type {\n",
       "        vertical-align: middle;\n",
       "    }\n",
       "\n",
       "    .dataframe tbody tr th {\n",
       "        vertical-align: top;\n",
       "    }\n",
       "\n",
       "    .dataframe thead th {\n",
       "        text-align: right;\n",
       "    }\n",
       "</style>\n",
       "<table border=\"1\" class=\"dataframe\">\n",
       "  <thead>\n",
       "    <tr style=\"text-align: right;\">\n",
       "      <th></th>\n",
       "      <th>total_nan</th>\n",
       "      <th>%_nan</th>\n",
       "      <th>duplicated</th>\n",
       "      <th>nunique</th>\n",
       "      <th>non_null</th>\n",
       "      <th>type</th>\n",
       "    </tr>\n",
       "  </thead>\n",
       "  <tbody>\n",
       "    <tr>\n",
       "      <th>date</th>\n",
       "      <td>0.0</td>\n",
       "      <td>0.0</td>\n",
       "      <td>31.0</td>\n",
       "      <td>31.0</td>\n",
       "      <td>62.0</td>\n",
       "      <td>object</td>\n",
       "    </tr>\n",
       "    <tr>\n",
       "      <th>group</th>\n",
       "      <td>0.0</td>\n",
       "      <td>0.0</td>\n",
       "      <td>60.0</td>\n",
       "      <td>2.0</td>\n",
       "      <td>62.0</td>\n",
       "      <td>object</td>\n",
       "    </tr>\n",
       "    <tr>\n",
       "      <th>visitors</th>\n",
       "      <td>0.0</td>\n",
       "      <td>0.0</td>\n",
       "      <td>4.0</td>\n",
       "      <td>58.0</td>\n",
       "      <td>62.0</td>\n",
       "      <td>int64</td>\n",
       "    </tr>\n",
       "    <tr>\n",
       "      <th>TOTAL: 3</th>\n",
       "      <td>0.0</td>\n",
       "      <td>0.0</td>\n",
       "      <td>0.0</td>\n",
       "      <td>62.0</td>\n",
       "      <td>62.0</td>\n",
       "      <td>2.0</td>\n",
       "    </tr>\n",
       "  </tbody>\n",
       "</table>\n",
       "</div>"
      ],
      "text/plain": [
       "          total_nan  %_nan  duplicated  nunique  non_null    type\n",
       "date      0.0        0.0    31.0        31.0     62.0      object\n",
       "group     0.0        0.0    60.0        2.0      62.0      object\n",
       "visitors  0.0        0.0    4.0         58.0     62.0      int64 \n",
       "TOTAL: 3  0.0        0.0    0.0         62.0     62.0      2.0   "
      ]
     },
     "metadata": {},
     "output_type": "display_data"
    },
    {
     "data": {
      "text/html": [
       "<div>\n",
       "<style scoped>\n",
       "    .dataframe tbody tr th:only-of-type {\n",
       "        vertical-align: middle;\n",
       "    }\n",
       "\n",
       "    .dataframe tbody tr th {\n",
       "        vertical-align: top;\n",
       "    }\n",
       "\n",
       "    .dataframe thead th {\n",
       "        text-align: right;\n",
       "    }\n",
       "</style>\n",
       "<table border=\"1\" class=\"dataframe\">\n",
       "  <thead>\n",
       "    <tr style=\"text-align: right;\">\n",
       "      <th></th>\n",
       "      <th>date</th>\n",
       "      <th>group</th>\n",
       "      <th>visitors</th>\n",
       "    </tr>\n",
       "  </thead>\n",
       "  <tbody>\n",
       "    <tr>\n",
       "      <th>0</th>\n",
       "      <td>2019-08-01</td>\n",
       "      <td>A</td>\n",
       "      <td>719</td>\n",
       "    </tr>\n",
       "    <tr>\n",
       "      <th>1</th>\n",
       "      <td>2019-08-02</td>\n",
       "      <td>A</td>\n",
       "      <td>619</td>\n",
       "    </tr>\n",
       "    <tr>\n",
       "      <th>2</th>\n",
       "      <td>2019-08-03</td>\n",
       "      <td>A</td>\n",
       "      <td>507</td>\n",
       "    </tr>\n",
       "    <tr>\n",
       "      <th>3</th>\n",
       "      <td>2019-08-04</td>\n",
       "      <td>A</td>\n",
       "      <td>717</td>\n",
       "    </tr>\n",
       "    <tr>\n",
       "      <th>4</th>\n",
       "      <td>2019-08-05</td>\n",
       "      <td>A</td>\n",
       "      <td>756</td>\n",
       "    </tr>\n",
       "  </tbody>\n",
       "</table>\n",
       "</div>"
      ],
      "text/plain": [
       "         date group  visitors\n",
       "0  2019-08-01  A     719     \n",
       "1  2019-08-02  A     619     \n",
       "2  2019-08-03  A     507     \n",
       "3  2019-08-04  A     717     \n",
       "4  2019-08-05  A     756     "
      ]
     },
     "metadata": {},
     "output_type": "display_data"
    },
    {
     "data": {
      "text/html": [
       "<div>\n",
       "<style scoped>\n",
       "    .dataframe tbody tr th:only-of-type {\n",
       "        vertical-align: middle;\n",
       "    }\n",
       "\n",
       "    .dataframe tbody tr th {\n",
       "        vertical-align: top;\n",
       "    }\n",
       "\n",
       "    .dataframe thead th {\n",
       "        text-align: right;\n",
       "    }\n",
       "</style>\n",
       "<table border=\"1\" class=\"dataframe\">\n",
       "  <thead>\n",
       "    <tr style=\"text-align: right;\">\n",
       "      <th></th>\n",
       "      <th>days</th>\n",
       "    </tr>\n",
       "    <tr>\n",
       "      <th>group</th>\n",
       "      <th></th>\n",
       "    </tr>\n",
       "  </thead>\n",
       "  <tbody>\n",
       "    <tr>\n",
       "      <th>A</th>\n",
       "      <td>31</td>\n",
       "    </tr>\n",
       "    <tr>\n",
       "      <th>B</th>\n",
       "      <td>31</td>\n",
       "    </tr>\n",
       "  </tbody>\n",
       "</table>\n",
       "</div>"
      ],
      "text/plain": [
       "       days\n",
       "group      \n",
       "A      31  \n",
       "B      31  "
      ]
     },
     "metadata": {},
     "output_type": "display_data"
    },
    {
     "data": {
      "text/plain": [
       "'Период посещения пользователями: с 2019-08-01 по 2019-08-31.'"
      ]
     },
     "metadata": {},
     "output_type": "display_data"
    },
    {
     "data": {
      "text/plain": [
       "'Количество посещений: 37652'"
      ]
     },
     "metadata": {},
     "output_type": "display_data"
    }
   ],
   "source": [
    "display(visitors.info(),about_data(visitors), visitors.head(), \n",
    "        visitors.groupby('group').agg({'date':'nunique'}).rename(columns = {'date':'days'}),\n",
    "        f\"Период посещения пользователями: с {visitors['date'].min()} по {visitors['date'].max()}.\",\n",
    "        f'Количество посещений: {visitors[\"visitors\"].sum()}')"
   ]
  },
  {
   "cell_type": "markdown",
   "metadata": {},
   "source": [
    "Отсуствуют пропуски в датафрейме. Данные предоставлены за весб август в одеих группах. Необходимо будет удалить такое же количество посещений за те же дни, что и записей о посещениях в датафрейме orders подлежащих удалению."
   ]
  },
  {
   "cell_type": "markdown",
   "metadata": {},
   "source": [
    "**Итого**\n",
    "\n",
    "Необходимо удалить пользователей и посещения \"после смены их группы\". Данные предоставлены за весь август месяц по обоим группам. В датафрейймах необходимо привести колонки date к типу даты."
   ]
  },
  {
   "cell_type": "markdown",
   "metadata": {},
   "source": [
    "<a id = 'preprocessing'></a>\n",
    "### [Предобработка данных](#plan)"
   ]
  },
  {
   "cell_type": "markdown",
   "metadata": {},
   "source": [
    "Приведём колонки date к типу даты."
   ]
  },
  {
   "cell_type": "code",
   "execution_count": 10,
   "metadata": {},
   "outputs": [
    {
     "name": "stdout",
     "output_type": "stream",
     "text": [
      "➡️ Entered data type: DataFrame\n"
     ]
    },
    {
     "data": {
      "text/html": [
       "<div>\n",
       "<style scoped>\n",
       "    .dataframe tbody tr th:only-of-type {\n",
       "        vertical-align: middle;\n",
       "    }\n",
       "\n",
       "    .dataframe tbody tr th {\n",
       "        vertical-align: top;\n",
       "    }\n",
       "\n",
       "    .dataframe thead th {\n",
       "        text-align: right;\n",
       "    }\n",
       "</style>\n",
       "<table border=\"1\" class=\"dataframe\">\n",
       "  <thead>\n",
       "    <tr style=\"text-align: right;\">\n",
       "      <th></th>\n",
       "      <th>total_nan</th>\n",
       "      <th>%_nan</th>\n",
       "      <th>duplicated</th>\n",
       "      <th>nunique</th>\n",
       "      <th>non_null</th>\n",
       "      <th>type</th>\n",
       "    </tr>\n",
       "  </thead>\n",
       "  <tbody>\n",
       "    <tr>\n",
       "      <th>date</th>\n",
       "      <td>0</td>\n",
       "      <td>0.0</td>\n",
       "      <td>1166</td>\n",
       "      <td>31</td>\n",
       "      <td>1197</td>\n",
       "      <td>datetime64[ns]</td>\n",
       "    </tr>\n",
       "  </tbody>\n",
       "</table>\n",
       "</div>"
      ],
      "text/plain": [
       "      total_nan  %_nan  duplicated  nunique  non_null            type\n",
       "date  0          0.0    1166        31       1197      datetime64[ns]"
      ]
     },
     "execution_count": 10,
     "metadata": {},
     "output_type": "execute_result"
    }
   ],
   "source": [
    "orders['date'] = orders['date'].map(lambda x: dt.datetime.strptime(x, '%Y-%m-%d'))\n",
    "about_data(orders,['date'])"
   ]
  },
  {
   "cell_type": "code",
   "execution_count": 11,
   "metadata": {},
   "outputs": [
    {
     "name": "stdout",
     "output_type": "stream",
     "text": [
      "➡️ Entered data type: DataFrame\n"
     ]
    },
    {
     "data": {
      "text/html": [
       "<div>\n",
       "<style scoped>\n",
       "    .dataframe tbody tr th:only-of-type {\n",
       "        vertical-align: middle;\n",
       "    }\n",
       "\n",
       "    .dataframe tbody tr th {\n",
       "        vertical-align: top;\n",
       "    }\n",
       "\n",
       "    .dataframe thead th {\n",
       "        text-align: right;\n",
       "    }\n",
       "</style>\n",
       "<table border=\"1\" class=\"dataframe\">\n",
       "  <thead>\n",
       "    <tr style=\"text-align: right;\">\n",
       "      <th></th>\n",
       "      <th>total_nan</th>\n",
       "      <th>%_nan</th>\n",
       "      <th>duplicated</th>\n",
       "      <th>nunique</th>\n",
       "      <th>non_null</th>\n",
       "      <th>type</th>\n",
       "    </tr>\n",
       "  </thead>\n",
       "  <tbody>\n",
       "    <tr>\n",
       "      <th>date</th>\n",
       "      <td>0</td>\n",
       "      <td>0.0</td>\n",
       "      <td>31</td>\n",
       "      <td>31</td>\n",
       "      <td>62</td>\n",
       "      <td>datetime64[ns]</td>\n",
       "    </tr>\n",
       "  </tbody>\n",
       "</table>\n",
       "</div>"
      ],
      "text/plain": [
       "      total_nan  %_nan  duplicated  nunique  non_null            type\n",
       "date  0          0.0    31          31       62        datetime64[ns]"
      ]
     },
     "execution_count": 11,
     "metadata": {},
     "output_type": "execute_result"
    }
   ],
   "source": [
    "visitors['date'] = visitors['date'].map(lambda x: dt.datetime.strptime(x, '%Y-%m-%d'))\n",
    "about_data(visitors,['date'])"
   ]
  },
  {
   "cell_type": "markdown",
   "metadata": {},
   "source": [
    "Избавимся от смешивания групп в датафрейме orders."
   ]
  },
  {
   "cell_type": "code",
   "execution_count": 12,
   "metadata": {},
   "outputs": [],
   "source": [
    "orders = orders.drop(index = drop_idx)"
   ]
  },
  {
   "cell_type": "code",
   "execution_count": 13,
   "metadata": {},
   "outputs": [
    {
     "name": "stdout",
     "output_type": "stream",
     "text": [
      "➡️ Entered data type: DataFrame\n"
     ]
    },
    {
     "data": {
      "text/html": [
       "<div>\n",
       "<style scoped>\n",
       "    .dataframe tbody tr th:only-of-type {\n",
       "        vertical-align: middle;\n",
       "    }\n",
       "\n",
       "    .dataframe tbody tr th {\n",
       "        vertical-align: top;\n",
       "    }\n",
       "\n",
       "    .dataframe thead th {\n",
       "        text-align: right;\n",
       "    }\n",
       "</style>\n",
       "<table border=\"1\" class=\"dataframe\">\n",
       "  <thead>\n",
       "    <tr style=\"text-align: right;\">\n",
       "      <th></th>\n",
       "      <th>total_nan</th>\n",
       "      <th>%_nan</th>\n",
       "      <th>duplicated</th>\n",
       "      <th>nunique</th>\n",
       "      <th>non_null</th>\n",
       "      <th>type</th>\n",
       "    </tr>\n",
       "  </thead>\n",
       "  <tbody>\n",
       "    <tr>\n",
       "      <th>transactionId</th>\n",
       "      <td>0.0</td>\n",
       "      <td>0.0</td>\n",
       "      <td>0.0</td>\n",
       "      <td>1124.0</td>\n",
       "      <td>1124.0</td>\n",
       "      <td>int64</td>\n",
       "    </tr>\n",
       "    <tr>\n",
       "      <th>visitorId</th>\n",
       "      <td>0.0</td>\n",
       "      <td>0.0</td>\n",
       "      <td>93.0</td>\n",
       "      <td>1031.0</td>\n",
       "      <td>1124.0</td>\n",
       "      <td>int64</td>\n",
       "    </tr>\n",
       "    <tr>\n",
       "      <th>date</th>\n",
       "      <td>0.0</td>\n",
       "      <td>0.0</td>\n",
       "      <td>1093.0</td>\n",
       "      <td>31.0</td>\n",
       "      <td>1124.0</td>\n",
       "      <td>datetime64[ns]</td>\n",
       "    </tr>\n",
       "    <tr>\n",
       "      <th>revenue</th>\n",
       "      <td>0.0</td>\n",
       "      <td>0.0</td>\n",
       "      <td>442.0</td>\n",
       "      <td>682.0</td>\n",
       "      <td>1124.0</td>\n",
       "      <td>int64</td>\n",
       "    </tr>\n",
       "    <tr>\n",
       "      <th>group</th>\n",
       "      <td>0.0</td>\n",
       "      <td>0.0</td>\n",
       "      <td>1122.0</td>\n",
       "      <td>2.0</td>\n",
       "      <td>1124.0</td>\n",
       "      <td>object</td>\n",
       "    </tr>\n",
       "    <tr>\n",
       "      <th>TOTAL: 5</th>\n",
       "      <td>0.0</td>\n",
       "      <td>0.0</td>\n",
       "      <td>0.0</td>\n",
       "      <td>1124.0</td>\n",
       "      <td>1124.0</td>\n",
       "      <td>3.0</td>\n",
       "    </tr>\n",
       "  </tbody>\n",
       "</table>\n",
       "</div>"
      ],
      "text/plain": [
       "               total_nan  %_nan  duplicated  nunique  non_null            type\n",
       "transactionId  0.0        0.0    0.0         1124.0   1124.0    int64         \n",
       "visitorId      0.0        0.0    93.0        1031.0   1124.0    int64         \n",
       "date           0.0        0.0    1093.0      31.0     1124.0    datetime64[ns]\n",
       "revenue        0.0        0.0    442.0       682.0    1124.0    int64         \n",
       "group          0.0        0.0    1122.0      2.0      1124.0    object        \n",
       "TOTAL: 5       0.0        0.0    0.0         1124.0   1124.0    3.0           "
      ]
     },
     "metadata": {},
     "output_type": "display_data"
    },
    {
     "data": {
      "text/html": [
       "<div>\n",
       "<style scoped>\n",
       "    .dataframe tbody tr th:only-of-type {\n",
       "        vertical-align: middle;\n",
       "    }\n",
       "\n",
       "    .dataframe tbody tr th {\n",
       "        vertical-align: top;\n",
       "    }\n",
       "\n",
       "    .dataframe thead th {\n",
       "        text-align: right;\n",
       "    }\n",
       "</style>\n",
       "<table border=\"1\" class=\"dataframe\">\n",
       "  <thead>\n",
       "    <tr style=\"text-align: right;\">\n",
       "      <th></th>\n",
       "      <th>days</th>\n",
       "    </tr>\n",
       "    <tr>\n",
       "      <th>group</th>\n",
       "      <th></th>\n",
       "    </tr>\n",
       "  </thead>\n",
       "  <tbody>\n",
       "    <tr>\n",
       "      <th>A</th>\n",
       "      <td>31</td>\n",
       "    </tr>\n",
       "    <tr>\n",
       "      <th>B</th>\n",
       "      <td>31</td>\n",
       "    </tr>\n",
       "  </tbody>\n",
       "</table>\n",
       "</div>"
      ],
      "text/plain": [
       "       days\n",
       "group      \n",
       "A      31  \n",
       "B      31  "
      ]
     },
     "metadata": {},
     "output_type": "display_data"
    },
    {
     "data": {
      "text/plain": [
       "'Период совершения заказов: с 2019-08-01 00:00:00 по 2019-08-31 00:00:00.'"
      ]
     },
     "metadata": {},
     "output_type": "display_data"
    }
   ],
   "source": [
    "display(about_data(orders),\n",
    "        orders.groupby('group').agg({'date':'nunique'}).rename(columns = {'date':'days'}),\n",
    "        f\"Период совершения заказов: с {orders['date'].min()} по {orders['date'].max()}.\")"
   ]
  },
  {
   "cell_type": "markdown",
   "metadata": {},
   "source": [
    "Датафрейм о заказах содержит данные за 31 день августа 2019 года. То есть данные за каждый день августа для каждой группы. Пропуски отсутствуют. Все заказы - уникальные. Дубликатов в датафрейме - нет. Колонка с датами приведена к формату даты и времени. Данные о совершённых заказах для пользователей со временем ошибочно попавших не в свои группы удалены по принципу \"сохранить данные до смены группы, во время смены и после - удалить\". Удалено 73 строки с 53 пользователями, что составляет 6.1 % от объёма всего датафрейма (6.64 % записей из группы А и 5.62 % из группы В).\n",
    "\n",
    "Скорректируем записи о посетителях в датафрейме visitors в том же количестве и в те же дни. Вычтем из исходных данных о количестве посетителей данные вносящие искажения из-за попадения \"не в свою группу\"."
   ]
  },
  {
   "cell_type": "code",
   "execution_count": 14,
   "metadata": {},
   "outputs": [
    {
     "name": "stdout",
     "output_type": "stream",
     "text": [
      "Количество посещений к удалению: 73\n"
     ]
    },
    {
     "data": {
      "text/html": [
       "<div>\n",
       "<style scoped>\n",
       "    .dataframe tbody tr th:only-of-type {\n",
       "        vertical-align: middle;\n",
       "    }\n",
       "\n",
       "    .dataframe tbody tr th {\n",
       "        vertical-align: top;\n",
       "    }\n",
       "\n",
       "    .dataframe thead th {\n",
       "        text-align: right;\n",
       "    }\n",
       "</style>\n",
       "<table border=\"1\" class=\"dataframe\">\n",
       "  <thead>\n",
       "    <tr style=\"text-align: right;\">\n",
       "      <th></th>\n",
       "      <th>date</th>\n",
       "      <th>group</th>\n",
       "      <th>visitorId</th>\n",
       "    </tr>\n",
       "  </thead>\n",
       "  <tbody>\n",
       "    <tr>\n",
       "      <th>0</th>\n",
       "      <td>2019-08-02</td>\n",
       "      <td>A</td>\n",
       "      <td>1</td>\n",
       "    </tr>\n",
       "    <tr>\n",
       "      <th>1</th>\n",
       "      <td>2019-08-04</td>\n",
       "      <td>A</td>\n",
       "      <td>2</td>\n",
       "    </tr>\n",
       "    <tr>\n",
       "      <th>2</th>\n",
       "      <td>2019-08-05</td>\n",
       "      <td>A</td>\n",
       "      <td>2</td>\n",
       "    </tr>\n",
       "    <tr>\n",
       "      <th>3</th>\n",
       "      <td>2019-08-07</td>\n",
       "      <td>A</td>\n",
       "      <td>1</td>\n",
       "    </tr>\n",
       "    <tr>\n",
       "      <th>4</th>\n",
       "      <td>2019-08-08</td>\n",
       "      <td>A</td>\n",
       "      <td>1</td>\n",
       "    </tr>\n",
       "    <tr>\n",
       "      <th>5</th>\n",
       "      <td>2019-08-08</td>\n",
       "      <td>B</td>\n",
       "      <td>1</td>\n",
       "    </tr>\n",
       "    <tr>\n",
       "      <th>6</th>\n",
       "      <td>2019-08-09</td>\n",
       "      <td>A</td>\n",
       "      <td>1</td>\n",
       "    </tr>\n",
       "    <tr>\n",
       "      <th>7</th>\n",
       "      <td>2019-08-11</td>\n",
       "      <td>A</td>\n",
       "      <td>1</td>\n",
       "    </tr>\n",
       "    <tr>\n",
       "      <th>8</th>\n",
       "      <td>2019-08-12</td>\n",
       "      <td>A</td>\n",
       "      <td>2</td>\n",
       "    </tr>\n",
       "    <tr>\n",
       "      <th>9</th>\n",
       "      <td>2019-08-12</td>\n",
       "      <td>B</td>\n",
       "      <td>1</td>\n",
       "    </tr>\n",
       "    <tr>\n",
       "      <th>10</th>\n",
       "      <td>2019-08-14</td>\n",
       "      <td>A</td>\n",
       "      <td>1</td>\n",
       "    </tr>\n",
       "    <tr>\n",
       "      <th>11</th>\n",
       "      <td>2019-08-14</td>\n",
       "      <td>B</td>\n",
       "      <td>3</td>\n",
       "    </tr>\n",
       "    <tr>\n",
       "      <th>12</th>\n",
       "      <td>2019-08-15</td>\n",
       "      <td>A</td>\n",
       "      <td>4</td>\n",
       "    </tr>\n",
       "    <tr>\n",
       "      <th>13</th>\n",
       "      <td>2019-08-15</td>\n",
       "      <td>B</td>\n",
       "      <td>3</td>\n",
       "    </tr>\n",
       "    <tr>\n",
       "      <th>14</th>\n",
       "      <td>2019-08-16</td>\n",
       "      <td>B</td>\n",
       "      <td>1</td>\n",
       "    </tr>\n",
       "    <tr>\n",
       "      <th>15</th>\n",
       "      <td>2019-08-17</td>\n",
       "      <td>A</td>\n",
       "      <td>1</td>\n",
       "    </tr>\n",
       "    <tr>\n",
       "      <th>16</th>\n",
       "      <td>2019-08-18</td>\n",
       "      <td>A</td>\n",
       "      <td>2</td>\n",
       "    </tr>\n",
       "    <tr>\n",
       "      <th>17</th>\n",
       "      <td>2019-08-18</td>\n",
       "      <td>B</td>\n",
       "      <td>1</td>\n",
       "    </tr>\n",
       "    <tr>\n",
       "      <th>18</th>\n",
       "      <td>2019-08-19</td>\n",
       "      <td>A</td>\n",
       "      <td>1</td>\n",
       "    </tr>\n",
       "    <tr>\n",
       "      <th>19</th>\n",
       "      <td>2019-08-20</td>\n",
       "      <td>A</td>\n",
       "      <td>1</td>\n",
       "    </tr>\n",
       "    <tr>\n",
       "      <th>20</th>\n",
       "      <td>2019-08-21</td>\n",
       "      <td>A</td>\n",
       "      <td>1</td>\n",
       "    </tr>\n",
       "    <tr>\n",
       "      <th>21</th>\n",
       "      <td>2019-08-21</td>\n",
       "      <td>B</td>\n",
       "      <td>2</td>\n",
       "    </tr>\n",
       "    <tr>\n",
       "      <th>22</th>\n",
       "      <td>2019-08-22</td>\n",
       "      <td>A</td>\n",
       "      <td>2</td>\n",
       "    </tr>\n",
       "    <tr>\n",
       "      <th>23</th>\n",
       "      <td>2019-08-22</td>\n",
       "      <td>B</td>\n",
       "      <td>2</td>\n",
       "    </tr>\n",
       "    <tr>\n",
       "      <th>24</th>\n",
       "      <td>2019-08-23</td>\n",
       "      <td>A</td>\n",
       "      <td>2</td>\n",
       "    </tr>\n",
       "    <tr>\n",
       "      <th>25</th>\n",
       "      <td>2019-08-23</td>\n",
       "      <td>B</td>\n",
       "      <td>2</td>\n",
       "    </tr>\n",
       "    <tr>\n",
       "      <th>26</th>\n",
       "      <td>2019-08-24</td>\n",
       "      <td>B</td>\n",
       "      <td>2</td>\n",
       "    </tr>\n",
       "    <tr>\n",
       "      <th>27</th>\n",
       "      <td>2019-08-26</td>\n",
       "      <td>B</td>\n",
       "      <td>3</td>\n",
       "    </tr>\n",
       "    <tr>\n",
       "      <th>28</th>\n",
       "      <td>2019-08-27</td>\n",
       "      <td>A</td>\n",
       "      <td>3</td>\n",
       "    </tr>\n",
       "    <tr>\n",
       "      <th>29</th>\n",
       "      <td>2019-08-27</td>\n",
       "      <td>B</td>\n",
       "      <td>4</td>\n",
       "    </tr>\n",
       "    <tr>\n",
       "      <th>30</th>\n",
       "      <td>2019-08-28</td>\n",
       "      <td>A</td>\n",
       "      <td>2</td>\n",
       "    </tr>\n",
       "    <tr>\n",
       "      <th>31</th>\n",
       "      <td>2019-08-28</td>\n",
       "      <td>B</td>\n",
       "      <td>4</td>\n",
       "    </tr>\n",
       "    <tr>\n",
       "      <th>32</th>\n",
       "      <td>2019-08-29</td>\n",
       "      <td>A</td>\n",
       "      <td>3</td>\n",
       "    </tr>\n",
       "    <tr>\n",
       "      <th>33</th>\n",
       "      <td>2019-08-29</td>\n",
       "      <td>B</td>\n",
       "      <td>3</td>\n",
       "    </tr>\n",
       "    <tr>\n",
       "      <th>34</th>\n",
       "      <td>2019-08-30</td>\n",
       "      <td>B</td>\n",
       "      <td>3</td>\n",
       "    </tr>\n",
       "    <tr>\n",
       "      <th>35</th>\n",
       "      <td>2019-08-31</td>\n",
       "      <td>A</td>\n",
       "      <td>3</td>\n",
       "    </tr>\n",
       "    <tr>\n",
       "      <th>36</th>\n",
       "      <td>2019-08-31</td>\n",
       "      <td>B</td>\n",
       "      <td>1</td>\n",
       "    </tr>\n",
       "  </tbody>\n",
       "</table>\n",
       "</div>"
      ],
      "text/plain": [
       "         date group  visitorId\n",
       "0  2019-08-02  A     1        \n",
       "1  2019-08-04  A     2        \n",
       "2  2019-08-05  A     2        \n",
       "3  2019-08-07  A     1        \n",
       "4  2019-08-08  A     1        \n",
       "5  2019-08-08  B     1        \n",
       "6  2019-08-09  A     1        \n",
       "7  2019-08-11  A     1        \n",
       "8  2019-08-12  A     2        \n",
       "9  2019-08-12  B     1        \n",
       "10 2019-08-14  A     1        \n",
       "11 2019-08-14  B     3        \n",
       "12 2019-08-15  A     4        \n",
       "13 2019-08-15  B     3        \n",
       "14 2019-08-16  B     1        \n",
       "15 2019-08-17  A     1        \n",
       "16 2019-08-18  A     2        \n",
       "17 2019-08-18  B     1        \n",
       "18 2019-08-19  A     1        \n",
       "19 2019-08-20  A     1        \n",
       "20 2019-08-21  A     1        \n",
       "21 2019-08-21  B     2        \n",
       "22 2019-08-22  A     2        \n",
       "23 2019-08-22  B     2        \n",
       "24 2019-08-23  A     2        \n",
       "25 2019-08-23  B     2        \n",
       "26 2019-08-24  B     2        \n",
       "27 2019-08-26  B     3        \n",
       "28 2019-08-27  A     3        \n",
       "29 2019-08-27  B     4        \n",
       "30 2019-08-28  A     2        \n",
       "31 2019-08-28  B     4        \n",
       "32 2019-08-29  A     3        \n",
       "33 2019-08-29  B     3        \n",
       "34 2019-08-30  B     3        \n",
       "35 2019-08-31  A     3        \n",
       "36 2019-08-31  B     1        "
      ]
     },
     "execution_count": 14,
     "metadata": {},
     "output_type": "execute_result"
    }
   ],
   "source": [
    "visitors_drop = x.groupby(['date','group'], as_index = False)['visitorId'].count()\n",
    "visitors_drop['date'] = visitors_drop['date'].map(lambda x: dt.datetime.strptime(x, '%Y-%m-%d'))\n",
    "print(f'Количество посещений к удалению: {visitors_drop[\"visitorId\"].sum()}')\n",
    "visitors_drop"
   ]
  },
  {
   "cell_type": "code",
   "execution_count": 15,
   "metadata": {},
   "outputs": [
    {
     "name": "stdout",
     "output_type": "stream",
     "text": [
      " Процент удаляемых посещений группы A: 0.2 %\n",
      " Процент удаляемых посещений группы B: 0.19 %\n"
     ]
    }
   ],
   "source": [
    "for i in ['A','B']:\n",
    "    print(f\" Процент удаляемых посещений группы {i}: {round(visitors_drop[visitors_drop['group']==i]['visitorId'].sum()/visitors[visitors['group']==i]['visitors'].sum()*100,2)} %\")"
   ]
  },
  {
   "cell_type": "code",
   "execution_count": 16,
   "metadata": {},
   "outputs": [
    {
     "name": "stdout",
     "output_type": "stream",
     "text": [
      "➡️ Entered data type: DataFrame\n"
     ]
    },
    {
     "data": {
      "text/html": [
       "<div>\n",
       "<style scoped>\n",
       "    .dataframe tbody tr th:only-of-type {\n",
       "        vertical-align: middle;\n",
       "    }\n",
       "\n",
       "    .dataframe tbody tr th {\n",
       "        vertical-align: top;\n",
       "    }\n",
       "\n",
       "    .dataframe thead th {\n",
       "        text-align: right;\n",
       "    }\n",
       "</style>\n",
       "<table border=\"1\" class=\"dataframe\">\n",
       "  <thead>\n",
       "    <tr style=\"text-align: right;\">\n",
       "      <th></th>\n",
       "      <th>total_nan</th>\n",
       "      <th>%_nan</th>\n",
       "      <th>duplicated</th>\n",
       "      <th>nunique</th>\n",
       "      <th>non_null</th>\n",
       "      <th>type</th>\n",
       "    </tr>\n",
       "  </thead>\n",
       "  <tbody>\n",
       "    <tr>\n",
       "      <th>date</th>\n",
       "      <td>0.0</td>\n",
       "      <td>0.0</td>\n",
       "      <td>31.0</td>\n",
       "      <td>31.0</td>\n",
       "      <td>62.0</td>\n",
       "      <td>datetime64[ns]</td>\n",
       "    </tr>\n",
       "    <tr>\n",
       "      <th>group</th>\n",
       "      <td>0.0</td>\n",
       "      <td>0.0</td>\n",
       "      <td>60.0</td>\n",
       "      <td>2.0</td>\n",
       "      <td>62.0</td>\n",
       "      <td>object</td>\n",
       "    </tr>\n",
       "    <tr>\n",
       "      <th>visitors</th>\n",
       "      <td>0.0</td>\n",
       "      <td>0.0</td>\n",
       "      <td>3.0</td>\n",
       "      <td>59.0</td>\n",
       "      <td>62.0</td>\n",
       "      <td>int32</td>\n",
       "    </tr>\n",
       "    <tr>\n",
       "      <th>TOTAL: 3</th>\n",
       "      <td>0.0</td>\n",
       "      <td>0.0</td>\n",
       "      <td>0.0</td>\n",
       "      <td>62.0</td>\n",
       "      <td>62.0</td>\n",
       "      <td>3.0</td>\n",
       "    </tr>\n",
       "  </tbody>\n",
       "</table>\n",
       "</div>"
      ],
      "text/plain": [
       "          total_nan  %_nan  duplicated  nunique  non_null            type\n",
       "date      0.0        0.0    31.0        31.0     62.0      datetime64[ns]\n",
       "group     0.0        0.0    60.0        2.0      62.0      object        \n",
       "visitors  0.0        0.0    3.0         59.0     62.0      int32         \n",
       "TOTAL: 3  0.0        0.0    0.0         62.0     62.0      3.0           "
      ]
     },
     "metadata": {},
     "output_type": "display_data"
    },
    {
     "data": {
      "text/html": [
       "<div>\n",
       "<style scoped>\n",
       "    .dataframe tbody tr th:only-of-type {\n",
       "        vertical-align: middle;\n",
       "    }\n",
       "\n",
       "    .dataframe tbody tr th {\n",
       "        vertical-align: top;\n",
       "    }\n",
       "\n",
       "    .dataframe thead th {\n",
       "        text-align: right;\n",
       "    }\n",
       "</style>\n",
       "<table border=\"1\" class=\"dataframe\">\n",
       "  <thead>\n",
       "    <tr style=\"text-align: right;\">\n",
       "      <th></th>\n",
       "      <th>days</th>\n",
       "    </tr>\n",
       "    <tr>\n",
       "      <th>group</th>\n",
       "      <th></th>\n",
       "    </tr>\n",
       "  </thead>\n",
       "  <tbody>\n",
       "    <tr>\n",
       "      <th>A</th>\n",
       "      <td>31</td>\n",
       "    </tr>\n",
       "    <tr>\n",
       "      <th>B</th>\n",
       "      <td>31</td>\n",
       "    </tr>\n",
       "  </tbody>\n",
       "</table>\n",
       "</div>"
      ],
      "text/plain": [
       "       days\n",
       "group      \n",
       "A      31  \n",
       "B      31  "
      ]
     },
     "metadata": {},
     "output_type": "display_data"
    },
    {
     "data": {
      "text/plain": [
       "'Период посещения пользователями: с 2019-08-01 00:00:00 по 2019-08-31 00:00:00.'"
      ]
     },
     "metadata": {},
     "output_type": "display_data"
    },
    {
     "data": {
      "text/plain": [
       "'Количество посещений: 37579'"
      ]
     },
     "metadata": {},
     "output_type": "display_data"
    }
   ],
   "source": [
    "visitors = visitors.merge(visitors_drop, on = ['date','group'], how='left').fillna(0)\n",
    "visitors['visitors'] = visitors['visitors'] - visitors['visitorId']\n",
    "visitors = visitors.drop(columns = ['visitorId'])\n",
    "visitors[\"visitors\"] = visitors[\"visitors\"].astype('int')\n",
    "display(about_data(visitors), \n",
    "        visitors.groupby('group').agg({'date':'nunique'}).rename(columns = {'date':'days'}),\n",
    "        f\"Период посещения пользователями: с {visitors['date'].min()} по {visitors['date'].max()}.\",\n",
    "        f'Количество посещений: {visitors[\"visitors\"].sum()}')"
   ]
  },
  {
   "cell_type": "markdown",
   "metadata": {},
   "source": [
    "Датафрейм о посещениях содержит данные о количестве посещений пользователей каждой группы в каждый из 31 дня августа 2019 года. Пропуски отсуствуют. Дубликты остуствуют. Колонка date приведена к формату даты и времени."
   ]
  },
  {
   "cell_type": "markdown",
   "metadata": {},
   "source": [
    "<a id = 'final_overview'></a>\n",
    "### [Итоги раздела](#plan)\n",
    "\n",
    "* Данные о гипотезах доступны полностью.\n",
    "* Данные содержатся за весь период c 2019-08-01 по 2019-08-31 для каждой группы.\n",
    "* Смешивание групп отсуствует.\n",
    "* Дубликатов и пропусков - нет.\n",
    "\n",
    "Данные подготовлены к исследованию.\n",
    "___"
   ]
  },
  {
   "cell_type": "markdown",
   "metadata": {},
   "source": [
    "<a id = 'hypothesis'></a>\n",
    "## [Приоретезация гипотез](#plan)"
   ]
  },
  {
   "cell_type": "markdown",
   "metadata": {},
   "source": [
    "\n",
    "Расчитаем приоритеты гипотез по фреймворкам ICE & RICE. Затем поочерёдно отсортеруем по каждому фреймвоку и вывидем гипотезы в порядке убывания оценки.\n",
    "\n",
    "Параметры используемые в фреймворках:\n",
    "- Reach — скольких пользователей затронет изменение, которое вы хотите внести;\n",
    "- Impact — насколько сильно изменение повлияет на пользователей, их опыт и удовлетворение от продукта;\n",
    "- Confidence — насколько вы уверены, что это изменение повлияет на пользователей именно так; \n",
    "- Efforts — сколько стоит протестировать эту гипотезу. \n",
    "\n",
    "ICE score = (Impact * Confidence) / Efforts\n",
    "\n",
    "RICE score = (Reach * Impact * Confidence) / Efforts"
   ]
  },
  {
   "cell_type": "code",
   "execution_count": 17,
   "metadata": {},
   "outputs": [
    {
     "data": {
      "text/html": [
       "<center><span style=\"color: black; font-size: 2em\">ICE</span> </center>"
      ],
      "text/plain": [
       "<IPython.core.display.HTML object>"
      ]
     },
     "metadata": {},
     "output_type": "display_data"
    },
    {
     "data": {
      "text/html": [
       "<div>\n",
       "<style scoped>\n",
       "    .dataframe tbody tr th:only-of-type {\n",
       "        vertical-align: middle;\n",
       "    }\n",
       "\n",
       "    .dataframe tbody tr th {\n",
       "        vertical-align: top;\n",
       "    }\n",
       "\n",
       "    .dataframe thead th {\n",
       "        text-align: right;\n",
       "    }\n",
       "</style>\n",
       "<table border=\"1\" class=\"dataframe\">\n",
       "  <thead>\n",
       "    <tr style=\"text-align: right;\">\n",
       "      <th></th>\n",
       "      <th>Hypothesis</th>\n",
       "      <th>Reach</th>\n",
       "      <th>Impact</th>\n",
       "      <th>Confidence</th>\n",
       "      <th>Efforts</th>\n",
       "      <th>ICE</th>\n",
       "      <th>RICE</th>\n",
       "    </tr>\n",
       "  </thead>\n",
       "  <tbody>\n",
       "    <tr>\n",
       "      <th>8</th>\n",
       "      <td>Запустить акцию, дающую скидку на товар в день рождения</td>\n",
       "      <td>1</td>\n",
       "      <td>9</td>\n",
       "      <td>9</td>\n",
       "      <td>5</td>\n",
       "      <td>16.200</td>\n",
       "      <td>16.2</td>\n",
       "    </tr>\n",
       "    <tr>\n",
       "      <th>0</th>\n",
       "      <td>Добавить два новых канала привлечения трафика, что позволит привлекать на 30% больше пользователей</td>\n",
       "      <td>3</td>\n",
       "      <td>10</td>\n",
       "      <td>8</td>\n",
       "      <td>6</td>\n",
       "      <td>13.333</td>\n",
       "      <td>40.0</td>\n",
       "    </tr>\n",
       "    <tr>\n",
       "      <th>7</th>\n",
       "      <td>Добавить форму подписки на все основные страницы, чтобы собрать базу клиентов для email-рассылок</td>\n",
       "      <td>10</td>\n",
       "      <td>7</td>\n",
       "      <td>8</td>\n",
       "      <td>5</td>\n",
       "      <td>11.200</td>\n",
       "      <td>112.0</td>\n",
       "    </tr>\n",
       "    <tr>\n",
       "      <th>6</th>\n",
       "      <td>Показать на главной странице баннеры с актуальными акциями и распродажами, чтобы увеличить конверсию</td>\n",
       "      <td>5</td>\n",
       "      <td>3</td>\n",
       "      <td>8</td>\n",
       "      <td>3</td>\n",
       "      <td>8.000</td>\n",
       "      <td>40.0</td>\n",
       "    </tr>\n",
       "    <tr>\n",
       "      <th>2</th>\n",
       "      <td>Добавить блоки рекомендаций товаров на сайт интернет магазина, чтобы повысить конверсию и средний чек заказа</td>\n",
       "      <td>8</td>\n",
       "      <td>3</td>\n",
       "      <td>7</td>\n",
       "      <td>3</td>\n",
       "      <td>7.000</td>\n",
       "      <td>56.0</td>\n",
       "    </tr>\n",
       "    <tr>\n",
       "      <th>1</th>\n",
       "      <td>Запустить собственную службу доставки, что сократит срок доставки заказов</td>\n",
       "      <td>2</td>\n",
       "      <td>5</td>\n",
       "      <td>4</td>\n",
       "      <td>10</td>\n",
       "      <td>2.000</td>\n",
       "      <td>4.0</td>\n",
       "    </tr>\n",
       "    <tr>\n",
       "      <th>5</th>\n",
       "      <td>Добавить страницу отзывов клиентов о магазине, что позволит увеличить количество заказов</td>\n",
       "      <td>3</td>\n",
       "      <td>2</td>\n",
       "      <td>2</td>\n",
       "      <td>3</td>\n",
       "      <td>1.333</td>\n",
       "      <td>4.0</td>\n",
       "    </tr>\n",
       "    <tr>\n",
       "      <th>3</th>\n",
       "      <td>Изменить структура категорий, что увеличит конверсию, т.к. пользователи быстрее найдут нужный товар</td>\n",
       "      <td>8</td>\n",
       "      <td>3</td>\n",
       "      <td>3</td>\n",
       "      <td>8</td>\n",
       "      <td>1.125</td>\n",
       "      <td>9.0</td>\n",
       "    </tr>\n",
       "    <tr>\n",
       "      <th>4</th>\n",
       "      <td>Изменить цвет фона главной страницы, чтобы увеличить вовлеченность пользователей</td>\n",
       "      <td>3</td>\n",
       "      <td>1</td>\n",
       "      <td>1</td>\n",
       "      <td>1</td>\n",
       "      <td>1.000</td>\n",
       "      <td>3.0</td>\n",
       "    </tr>\n",
       "  </tbody>\n",
       "</table>\n",
       "</div>"
      ],
      "text/plain": [
       "                                                                                                     Hypothesis  \\\n",
       "8  Запустить акцию, дающую скидку на товар в день рождения                                                        \n",
       "0  Добавить два новых канала привлечения трафика, что позволит привлекать на 30% больше пользователей             \n",
       "7  Добавить форму подписки на все основные страницы, чтобы собрать базу клиентов для email-рассылок               \n",
       "6  Показать на главной странице баннеры с актуальными акциями и распродажами, чтобы увеличить конверсию           \n",
       "2  Добавить блоки рекомендаций товаров на сайт интернет магазина, чтобы повысить конверсию и средний чек заказа   \n",
       "1  Запустить собственную службу доставки, что сократит срок доставки заказов                                      \n",
       "5  Добавить страницу отзывов клиентов о магазине, что позволит увеличить количество заказов                       \n",
       "3  Изменить структура категорий, что увеличит конверсию, т.к. пользователи быстрее найдут нужный товар            \n",
       "4  Изменить цвет фона главной страницы, чтобы увеличить вовлеченность пользователей                               \n",
       "\n",
       "   Reach  Impact  Confidence  Efforts     ICE   RICE  \n",
       "8  1      9       9           5        16.200  16.2   \n",
       "0  3      10      8           6        13.333  40.0   \n",
       "7  10     7       8           5        11.200  112.0  \n",
       "6  5      3       8           3        8.000   40.0   \n",
       "2  8      3       7           3        7.000   56.0   \n",
       "1  2      5       4           10       2.000   4.0    \n",
       "5  3      2       2           3        1.333   4.0    \n",
       "3  8      3       3           8        1.125   9.0    \n",
       "4  3      1       1           1        1.000   3.0    "
      ]
     },
     "metadata": {},
     "output_type": "display_data"
    },
    {
     "data": {
      "text/html": [
       "<center><span style=\"color: black; font-size: 2em\">RICE</span> </center>"
      ],
      "text/plain": [
       "<IPython.core.display.HTML object>"
      ]
     },
     "metadata": {},
     "output_type": "display_data"
    },
    {
     "data": {
      "text/html": [
       "<div>\n",
       "<style scoped>\n",
       "    .dataframe tbody tr th:only-of-type {\n",
       "        vertical-align: middle;\n",
       "    }\n",
       "\n",
       "    .dataframe tbody tr th {\n",
       "        vertical-align: top;\n",
       "    }\n",
       "\n",
       "    .dataframe thead th {\n",
       "        text-align: right;\n",
       "    }\n",
       "</style>\n",
       "<table border=\"1\" class=\"dataframe\">\n",
       "  <thead>\n",
       "    <tr style=\"text-align: right;\">\n",
       "      <th></th>\n",
       "      <th>Hypothesis</th>\n",
       "      <th>Reach</th>\n",
       "      <th>Impact</th>\n",
       "      <th>Confidence</th>\n",
       "      <th>Efforts</th>\n",
       "      <th>ICE</th>\n",
       "      <th>RICE</th>\n",
       "    </tr>\n",
       "  </thead>\n",
       "  <tbody>\n",
       "    <tr>\n",
       "      <th>7</th>\n",
       "      <td>Добавить форму подписки на все основные страницы, чтобы собрать базу клиентов для email-рассылок</td>\n",
       "      <td>10</td>\n",
       "      <td>7</td>\n",
       "      <td>8</td>\n",
       "      <td>5</td>\n",
       "      <td>11.200</td>\n",
       "      <td>112.0</td>\n",
       "    </tr>\n",
       "    <tr>\n",
       "      <th>2</th>\n",
       "      <td>Добавить блоки рекомендаций товаров на сайт интернет магазина, чтобы повысить конверсию и средний чек заказа</td>\n",
       "      <td>8</td>\n",
       "      <td>3</td>\n",
       "      <td>7</td>\n",
       "      <td>3</td>\n",
       "      <td>7.000</td>\n",
       "      <td>56.0</td>\n",
       "    </tr>\n",
       "    <tr>\n",
       "      <th>0</th>\n",
       "      <td>Добавить два новых канала привлечения трафика, что позволит привлекать на 30% больше пользователей</td>\n",
       "      <td>3</td>\n",
       "      <td>10</td>\n",
       "      <td>8</td>\n",
       "      <td>6</td>\n",
       "      <td>13.333</td>\n",
       "      <td>40.0</td>\n",
       "    </tr>\n",
       "    <tr>\n",
       "      <th>6</th>\n",
       "      <td>Показать на главной странице баннеры с актуальными акциями и распродажами, чтобы увеличить конверсию</td>\n",
       "      <td>5</td>\n",
       "      <td>3</td>\n",
       "      <td>8</td>\n",
       "      <td>3</td>\n",
       "      <td>8.000</td>\n",
       "      <td>40.0</td>\n",
       "    </tr>\n",
       "    <tr>\n",
       "      <th>8</th>\n",
       "      <td>Запустить акцию, дающую скидку на товар в день рождения</td>\n",
       "      <td>1</td>\n",
       "      <td>9</td>\n",
       "      <td>9</td>\n",
       "      <td>5</td>\n",
       "      <td>16.200</td>\n",
       "      <td>16.2</td>\n",
       "    </tr>\n",
       "    <tr>\n",
       "      <th>3</th>\n",
       "      <td>Изменить структура категорий, что увеличит конверсию, т.к. пользователи быстрее найдут нужный товар</td>\n",
       "      <td>8</td>\n",
       "      <td>3</td>\n",
       "      <td>3</td>\n",
       "      <td>8</td>\n",
       "      <td>1.125</td>\n",
       "      <td>9.0</td>\n",
       "    </tr>\n",
       "    <tr>\n",
       "      <th>1</th>\n",
       "      <td>Запустить собственную службу доставки, что сократит срок доставки заказов</td>\n",
       "      <td>2</td>\n",
       "      <td>5</td>\n",
       "      <td>4</td>\n",
       "      <td>10</td>\n",
       "      <td>2.000</td>\n",
       "      <td>4.0</td>\n",
       "    </tr>\n",
       "    <tr>\n",
       "      <th>5</th>\n",
       "      <td>Добавить страницу отзывов клиентов о магазине, что позволит увеличить количество заказов</td>\n",
       "      <td>3</td>\n",
       "      <td>2</td>\n",
       "      <td>2</td>\n",
       "      <td>3</td>\n",
       "      <td>1.333</td>\n",
       "      <td>4.0</td>\n",
       "    </tr>\n",
       "    <tr>\n",
       "      <th>4</th>\n",
       "      <td>Изменить цвет фона главной страницы, чтобы увеличить вовлеченность пользователей</td>\n",
       "      <td>3</td>\n",
       "      <td>1</td>\n",
       "      <td>1</td>\n",
       "      <td>1</td>\n",
       "      <td>1.000</td>\n",
       "      <td>3.0</td>\n",
       "    </tr>\n",
       "  </tbody>\n",
       "</table>\n",
       "</div>"
      ],
      "text/plain": [
       "                                                                                                     Hypothesis  \\\n",
       "7  Добавить форму подписки на все основные страницы, чтобы собрать базу клиентов для email-рассылок               \n",
       "2  Добавить блоки рекомендаций товаров на сайт интернет магазина, чтобы повысить конверсию и средний чек заказа   \n",
       "0  Добавить два новых канала привлечения трафика, что позволит привлекать на 30% больше пользователей             \n",
       "6  Показать на главной странице баннеры с актуальными акциями и распродажами, чтобы увеличить конверсию           \n",
       "8  Запустить акцию, дающую скидку на товар в день рождения                                                        \n",
       "3  Изменить структура категорий, что увеличит конверсию, т.к. пользователи быстрее найдут нужный товар            \n",
       "1  Запустить собственную службу доставки, что сократит срок доставки заказов                                      \n",
       "5  Добавить страницу отзывов клиентов о магазине, что позволит увеличить количество заказов                       \n",
       "4  Изменить цвет фона главной страницы, чтобы увеличить вовлеченность пользователей                               \n",
       "\n",
       "   Reach  Impact  Confidence  Efforts     ICE   RICE  \n",
       "7  10     7       8           5        11.200  112.0  \n",
       "2  8      3       7           3        7.000   56.0   \n",
       "0  3      10      8           6        13.333  40.0   \n",
       "6  5      3       8           3        8.000   40.0   \n",
       "8  1      9       9           5        16.200  16.2   \n",
       "3  8      3       3           8        1.125   9.0    \n",
       "1  2      5       4           10       2.000   4.0    \n",
       "5  3      2       2           3        1.333   4.0    \n",
       "4  3      1       1           1        1.000   3.0    "
      ]
     },
     "metadata": {},
     "output_type": "display_data"
    }
   ],
   "source": [
    "hypothesis['ICE'] = round((hypothesis['Impact']*hypothesis['Confidence']) / hypothesis['Efforts'],3)\n",
    "hypothesis['RICE'] = (hypothesis['Reach']*hypothesis['Impact']*hypothesis['Confidence']) / hypothesis['Efforts']\n",
    "#-------------------------------------------------------------------display sorted by ICE\n",
    "idx = hypothesis.sort_values(by ='ICE', ascending = False).index\n",
    "display(HTML(f'<center><span style=\"color: black; font-size: 2em\">ICE</span> </center>'),\n",
    "        hypothesis.sort_values(by ='ICE', ascending = False))\n",
    "#-------------------------------------------------------------------display sorted by RICE\n",
    "idx = hypothesis.sort_values(by ='RICE', ascending = False).index\n",
    "display(HTML(f'<center><span style=\"color: black; font-size: 2em\">RICE</span> </center>'),\n",
    "        hypothesis.sort_values(by ='RICE', ascending = False))"
   ]
  },
  {
   "cell_type": "markdown",
   "metadata": {},
   "source": [
    "- ICE не оценивает охват аудитории, что делает его менее детальным, но упращает расчёт.\n",
    "- RICE оценевает более детальнее. Параметр Reach делает оценку более приближенной к реальности.\n",
    "\n",
    "**О преоритизации гипотез**\n",
    "\n",
    "По **ICE** наибольшее количество очков набирают гипотезы: \n",
    "* 8: Запустить акцию, дающую скидку на товар в день рождения;\n",
    "* 0: Добавить два новых канала привлечения трафика, что позволит привлекать на 30% больше пользователей;\n",
    "* 7: Добавить форму подписки на все основные страницы, чтобы собрать базу клиентов для email-рассылок.\n",
    "\n",
    "Во многом это обусловлено большим по сравнению с другими параметрами: влияния (Impact) и уверенности в результате (Confidence), а так же средними показателями затрат (Efforts). Фреймоворк ICE учитывает только последние 3 параметра: влияние на аудиторию, уверенность в результатах, \"цена\" теста. Он не учитывает охват аудитории. Это важный параметр ввиду \"массовости\" влияния. Влияние может быть существенным и относительно предсказуемым ввиду некоторой известности поведенческих алгоритмов, но охватыватывать при этом небольшую аудиторию за период (к примеру топ-3 гипотеза по ICE). То есть ICE не учитывает данные о возможном охвате аудитории, и расчёт по нему более лёгкий. \n",
    "\n",
    "По **RICE** наибольшее количество очков набирают гипотезы:\n",
    "* 7: Добавить форму подписки на все основные страницы, чтобы собрать базу клиентов для email-рассылок;\n",
    "* 2: Добавить блоки рекомендаций товаров на сайт интернет магазина, чтобы повысить конверсию и средний чек заказа;\n",
    "* 0: Добавить два новых канала привлечения трафика, что позволит привлекать на 30% больше пользователей.\n",
    "\n",
    "Самая топовая гипотеза по RICE - мимо этого нововедения не возможно пройти - оно затронет абсолютно всех посетителей и сразу. По RICE наибольшее количество очков набрали гипотезы с существенным влиянием параметра охвата (Reach). При этом гипотеза 2 поднялась с 5 (по ICE) позиции на 2-ю (по RICE) именно благодаря оценке охвата. Зато гипотеза 8 опустилась с первой позиции (по ICE) на 5-ю ввиду не столь массового охвата аудитории, несмотря на высокое влияние и уверенности в результате (вероятно подарки на дни рождения все любят - внимание ценно). Гипотеза 0 осталась в топ-3 благодаря силе влияния - запуск 2х новых каналов (которых ранее не было) привлечения трафика существенно влияет на \"новую аудиторию\" так как ранее на неё воздействия небыло никакого.\n",
    "___"
   ]
  },
  {
   "cell_type": "markdown",
   "metadata": {},
   "source": [
    "<a id = 'research'></a>\n",
    "## [Исследование A/B теста](#plan)"
   ]
  },
  {
   "cell_type": "markdown",
   "metadata": {},
   "source": [
    "<a id = 'analisis'></a>\n",
    "### [Аналитическая часть](#plan)\n",
    "\n",
    "**Кумулятивная выручка**\n",
    "\n",
    "Подготовим данные кумулятивной выручки по группам и построим график. \n",
    "Создадим массив уникальных пар значений дат и групп и соберём агрегатированные кумулятивные по дням данные о заказах, покупателях, посетителях и выручке с разбивкой по группам и дате."
   ]
  },
  {
   "cell_type": "code",
   "execution_count": 18,
   "metadata": {},
   "outputs": [
    {
     "data": {
      "text/html": [
       "<div>\n",
       "<style scoped>\n",
       "    .dataframe tbody tr th:only-of-type {\n",
       "        vertical-align: middle;\n",
       "    }\n",
       "\n",
       "    .dataframe tbody tr th {\n",
       "        vertical-align: top;\n",
       "    }\n",
       "\n",
       "    .dataframe thead th {\n",
       "        text-align: right;\n",
       "    }\n",
       "</style>\n",
       "<table border=\"1\" class=\"dataframe\">\n",
       "  <thead>\n",
       "    <tr style=\"text-align: right;\">\n",
       "      <th></th>\n",
       "      <th>date</th>\n",
       "      <th>group</th>\n",
       "      <th>orders</th>\n",
       "      <th>buyers</th>\n",
       "      <th>revenue</th>\n",
       "      <th>visitors</th>\n",
       "    </tr>\n",
       "  </thead>\n",
       "  <tbody>\n",
       "    <tr>\n",
       "      <th>0</th>\n",
       "      <td>2019-08-01</td>\n",
       "      <td>A</td>\n",
       "      <td>24</td>\n",
       "      <td>20</td>\n",
       "      <td>148579</td>\n",
       "      <td>719</td>\n",
       "    </tr>\n",
       "    <tr>\n",
       "      <th>1</th>\n",
       "      <td>2019-08-01</td>\n",
       "      <td>B</td>\n",
       "      <td>21</td>\n",
       "      <td>20</td>\n",
       "      <td>101217</td>\n",
       "      <td>713</td>\n",
       "    </tr>\n",
       "    <tr>\n",
       "      <th>2</th>\n",
       "      <td>2019-08-02</td>\n",
       "      <td>A</td>\n",
       "      <td>43</td>\n",
       "      <td>37</td>\n",
       "      <td>240181</td>\n",
       "      <td>1337</td>\n",
       "    </tr>\n",
       "    <tr>\n",
       "      <th>3</th>\n",
       "      <td>2019-08-02</td>\n",
       "      <td>B</td>\n",
       "      <td>45</td>\n",
       "      <td>43</td>\n",
       "      <td>266748</td>\n",
       "      <td>1294</td>\n",
       "    </tr>\n",
       "    <tr>\n",
       "      <th>4</th>\n",
       "      <td>2019-08-03</td>\n",
       "      <td>A</td>\n",
       "      <td>67</td>\n",
       "      <td>61</td>\n",
       "      <td>352654</td>\n",
       "      <td>1844</td>\n",
       "    </tr>\n",
       "    <tr>\n",
       "      <th>5</th>\n",
       "      <td>2019-08-03</td>\n",
       "      <td>B</td>\n",
       "      <td>61</td>\n",
       "      <td>59</td>\n",
       "      <td>380996</td>\n",
       "      <td>1803</td>\n",
       "    </tr>\n",
       "    <tr>\n",
       "      <th>6</th>\n",
       "      <td>2019-08-04</td>\n",
       "      <td>A</td>\n",
       "      <td>81</td>\n",
       "      <td>74</td>\n",
       "      <td>398240</td>\n",
       "      <td>2559</td>\n",
       "    </tr>\n",
       "    <tr>\n",
       "      <th>7</th>\n",
       "      <td>2019-08-04</td>\n",
       "      <td>B</td>\n",
       "      <td>78</td>\n",
       "      <td>75</td>\n",
       "      <td>489567</td>\n",
       "      <td>2573</td>\n",
       "    </tr>\n",
       "    <tr>\n",
       "      <th>8</th>\n",
       "      <td>2019-08-05</td>\n",
       "      <td>A</td>\n",
       "      <td>104</td>\n",
       "      <td>96</td>\n",
       "      <td>507573</td>\n",
       "      <td>3313</td>\n",
       "    </tr>\n",
       "    <tr>\n",
       "      <th>9</th>\n",
       "      <td>2019-08-05</td>\n",
       "      <td>B</td>\n",
       "      <td>101</td>\n",
       "      <td>98</td>\n",
       "      <td>581995</td>\n",
       "      <td>3280</td>\n",
       "    </tr>\n",
       "  </tbody>\n",
       "</table>\n",
       "</div>"
      ],
      "text/plain": [
       "        date group  orders  buyers  revenue  visitors\n",
       "0 2019-08-01  A     24      20      148579   719     \n",
       "1 2019-08-01  B     21      20      101217   713     \n",
       "2 2019-08-02  A     43      37      240181   1337    \n",
       "3 2019-08-02  B     45      43      266748   1294    \n",
       "4 2019-08-03  A     67      61      352654   1844    \n",
       "5 2019-08-03  B     61      59      380996   1803    \n",
       "6 2019-08-04  A     81      74      398240   2559    \n",
       "7 2019-08-04  B     78      75      489567   2573    \n",
       "8 2019-08-05  A     104     96      507573   3313    \n",
       "9 2019-08-05  B     101     98      581995   3280    "
      ]
     },
     "execution_count": 18,
     "metadata": {},
     "output_type": "execute_result"
    }
   ],
   "source": [
    "datesGroups = orders[['date', 'group']].drop_duplicates()\n",
    "\n",
    "ordersAggregated = datesGroups.apply(lambda x: \n",
    "                                     orders[np.logical_and(orders['date'] <= x['date'], \n",
    "                                                           orders['group'] == x['group'])]\n",
    "                                     .agg({'date': 'max',\n",
    "                                           'group': 'max',\n",
    "                                           'transactionId': 'nunique',\n",
    "                                           'visitorId': 'nunique',\n",
    "                                           'revenue': 'sum'}),\n",
    "                                     axis=1).sort_values(by=['date', 'group'])\n",
    "\n",
    "visitorsAggregated = datesGroups.apply(lambda x: \n",
    "                                       visitors[np.logical_and(visitors['date'] <= x['date'], \n",
    "                                                               visitors['group'] == x['group'])]\n",
    "                                       .agg({'date': 'max', \n",
    "                                             'group': 'max', \n",
    "                                             'visitors': 'sum'}),\n",
    "                                       axis=1).sort_values(by=['date', 'group'])\n",
    "\n",
    "cumulativeData = ordersAggregated.merge(visitorsAggregated, \n",
    "                                        left_on=['date', 'group'], \n",
    "                                        right_on=['date', 'group'])\n",
    "cumulativeData.columns = ['date', \n",
    "                          'group', \n",
    "                          'orders',\n",
    "                          'buyers',\n",
    "                          'revenue',\n",
    "                          'visitors']\n",
    "\n",
    "cumulativeData.sort_values(by = 'date').head(10)"
   ]
  },
  {
   "cell_type": "markdown",
   "metadata": {},
   "source": [
    "Построим график кумулятивной выручки групп А и В."
   ]
  },
  {
   "cell_type": "code",
   "execution_count": 19,
   "metadata": {},
   "outputs": [
    {
     "data": {
      "image/png": "[encoded data removed]",
      "text/plain": [
       "<Figure size 1000x500 with 1 Axes>"
      ]
     },
     "metadata": {},
     "output_type": "display_data"
    }
   ],
   "source": [
    "cumulativeRevenueA = cumulativeData[cumulativeData['group']=='A'][['date','revenue', 'orders']]\n",
    "cumulativeRevenueB = cumulativeData[cumulativeData['group']=='B'][['date','revenue', 'orders']]\n",
    "\n",
    "fig, ax = plt.subplots(figsize = (10,5))\n",
    "\n",
    "ax.plot(cumulativeRevenueA['date'].dt.day, \n",
    "        cumulativeRevenueA['revenue'], \n",
    "        label='group A')\n",
    "ax.plot(cumulativeRevenueB['date'].dt.day, \n",
    "        cumulativeRevenueB['revenue'], \n",
    "        label='group B')\n",
    "\n",
    "ax.set_title(\"Кумулятивная выручка групп А и В \\nAвгуст 2019 года\")\n",
    "ax.set_xlabel('календарный день августа')\n",
    "ax.set_ylabel('кумулятивная выручка')\n",
    "\n",
    "x_ticks = range(1,32)\n",
    "plt.xticks (ticks=x_ticks, labels=list(x_ticks))\n",
    "ax.grid(axis='y')\n",
    "plt.legend(loc = 2);"
   ]
  },
  {
   "cell_type": "markdown",
   "metadata": {},
   "source": [
    "- Выручка в группе В со 2 августа больше группы А. Группа В - лучше.\n",
    "- Резкий скачёк выручки с 18 на 19 августа в группе В.\n",
    "\n",
    "Возможно были совершены аномально дорогие заказы или большое их количество (оптовик), что в дальнейшем существенно повлияло на разницу показателей выручки. Пока тестовая группа В показывает себя лучше контрольной.\n",
    "\n",
    "**Кумулятивный средний чек**\n",
    "\n",
    "Построим график кумулятивного среднего чека групп А и В. Для этого вычислим отношение кумулятивных данных о выручке к заказам."
   ]
  },
  {
   "cell_type": "code",
   "execution_count": 20,
   "metadata": {},
   "outputs": [
    {
     "data": {
      "image/png": "[encoded data removed]",
      "text/plain": [
       "<Figure size 1000x500 with 1 Axes>"
      ]
     },
     "metadata": {},
     "output_type": "display_data"
    }
   ],
   "source": [
    "fig, ax = plt.subplots(figsize = (10,5))\n",
    "\n",
    "ax.plot(cumulativeRevenueA['date'].dt.day, \n",
    "        cumulativeRevenueA['revenue']/cumulativeRevenueA['orders'], \n",
    "        label='group A')\n",
    "ax.plot(cumulativeRevenueB['date'].dt.day, \n",
    "        cumulativeRevenueB['revenue']/cumulativeRevenueB['orders'], \n",
    "        label='group B')\n",
    "\n",
    "ax.set_title(\"Кумулятивный средний чек групп А и В \\nAвгуст 2019 года\")\n",
    "ax.set_xlabel('календарный день августа')\n",
    "ax.set_ylabel('кумулятивный средний чек')\n",
    "\n",
    "plt.xticks (ticks=x_ticks, labels=list(x_ticks))\n",
    "ax.grid(axis='y')\n",
    "plt.legend(loc = 2);"
   ]
  },
  {
   "cell_type": "markdown",
   "metadata": {},
   "source": [
    "- Кумулятивный средний чек группы В в целом выше, чем у группы А.\n",
    "- Резкий скачёк кумулятивного среднего чека с 18 на 19 августа в группе В.\n",
    "\n",
    "Резкий скачёк говорит о том, что в эти дни приимущественно преобретался дорогой товар.\n",
    "\n",
    "**Относительное изменение кумулятивного среднего чека**\n",
    "\n",
    "Построим график относительного изменения кумулятивного среднего чека группы В к А.\n",
    "\n",
    "`Кумулятивный средний чек группы` = `кумулятиваня выручка группы` / `кумулятивное количество заказов группы`\\\n",
    "`Относительное изменение кумулятивного среднего чека` = `кумулятивный средний чек гр.В` / `кумулятивный средний чек гр.А` - `1`\n",
    "\n",
    "Подготовим данные для графика: выполним слияние датафреймов с кумулятивной выручкой и количеством заказов групп А и В."
   ]
  },
  {
   "cell_type": "code",
   "execution_count": 21,
   "metadata": {},
   "outputs": [
    {
     "data": {
      "text/html": [
       "<div>\n",
       "<style scoped>\n",
       "    .dataframe tbody tr th:only-of-type {\n",
       "        vertical-align: middle;\n",
       "    }\n",
       "\n",
       "    .dataframe tbody tr th {\n",
       "        vertical-align: top;\n",
       "    }\n",
       "\n",
       "    .dataframe thead th {\n",
       "        text-align: right;\n",
       "    }\n",
       "</style>\n",
       "<table border=\"1\" class=\"dataframe\">\n",
       "  <thead>\n",
       "    <tr style=\"text-align: right;\">\n",
       "      <th></th>\n",
       "      <th>date</th>\n",
       "      <th>revenueA</th>\n",
       "      <th>ordersA</th>\n",
       "      <th>revenueB</th>\n",
       "      <th>ordersB</th>\n",
       "    </tr>\n",
       "  </thead>\n",
       "  <tbody>\n",
       "    <tr>\n",
       "      <th>0</th>\n",
       "      <td>2019-08-01</td>\n",
       "      <td>148579</td>\n",
       "      <td>24</td>\n",
       "      <td>101217</td>\n",
       "      <td>21</td>\n",
       "    </tr>\n",
       "    <tr>\n",
       "      <th>1</th>\n",
       "      <td>2019-08-02</td>\n",
       "      <td>240181</td>\n",
       "      <td>43</td>\n",
       "      <td>266748</td>\n",
       "      <td>45</td>\n",
       "    </tr>\n",
       "    <tr>\n",
       "      <th>2</th>\n",
       "      <td>2019-08-03</td>\n",
       "      <td>352654</td>\n",
       "      <td>67</td>\n",
       "      <td>380996</td>\n",
       "      <td>61</td>\n",
       "    </tr>\n",
       "    <tr>\n",
       "      <th>3</th>\n",
       "      <td>2019-08-04</td>\n",
       "      <td>398240</td>\n",
       "      <td>81</td>\n",
       "      <td>489567</td>\n",
       "      <td>78</td>\n",
       "    </tr>\n",
       "    <tr>\n",
       "      <th>4</th>\n",
       "      <td>2019-08-05</td>\n",
       "      <td>507573</td>\n",
       "      <td>104</td>\n",
       "      <td>581995</td>\n",
       "      <td>101</td>\n",
       "    </tr>\n",
       "  </tbody>\n",
       "</table>\n",
       "</div>"
      ],
      "text/plain": [
       "        date  revenueA  ordersA  revenueB  ordersB\n",
       "0 2019-08-01  148579    24       101217    21     \n",
       "1 2019-08-02  240181    43       266748    45     \n",
       "2 2019-08-03  352654    67       380996    61     \n",
       "3 2019-08-04  398240    81       489567    78     \n",
       "4 2019-08-05  507573    104      581995    101    "
      ]
     },
     "execution_count": 21,
     "metadata": {},
     "output_type": "execute_result"
    }
   ],
   "source": [
    "mergedCumulativeRevenue = cumulativeRevenueA.merge(cumulativeRevenueB, \n",
    "                                                   left_on='date', \n",
    "                                                   right_on='date', \n",
    "                                                   how='left', \n",
    "                                                   suffixes=['A', 'B'])\n",
    "mergedCumulativeRevenue.sort_values(by ='date').head()"
   ]
  },
  {
   "cell_type": "markdown",
   "metadata": {},
   "source": [
    "Построим график с расчётными данными."
   ]
  },
  {
   "cell_type": "code",
   "execution_count": 22,
   "metadata": {},
   "outputs": [
    {
     "data": {
      "image/png": "[encoded data removed]",
      "text/plain": [
       "<Figure size 1000x500 with 1 Axes>"
      ]
     },
     "metadata": {},
     "output_type": "display_data"
    }
   ],
   "source": [
    "fig, ax = plt.subplots(figsize = (10,5))\n",
    "plt.plot(mergedCumulativeRevenue['date'].dt.day, \n",
    "         (mergedCumulativeRevenue['revenueB']/mergedCumulativeRevenue['ordersB'])/(mergedCumulativeRevenue['revenueA']/mergedCumulativeRevenue['ordersA'])-1,\n",
    "        label = \"(revenueB/ordersB)/(revenueA/ordersA) - 1\",\n",
    "        color = 'darkorchid')\n",
    "\n",
    "plt.axhline(y=0, color='orangered', linestyle='--')\n",
    "\n",
    "ax.set_title(\"Относительное изменение кумулятивного среднего чека групп А и В \\nАвгуст 2019 года\")\n",
    "ax.set_xlabel('календарный день августа')\n",
    "ax.set_ylabel('Относительное изменение')\n",
    "\n",
    "plt.xticks (ticks=x_ticks, labels=list(x_ticks))\n",
    "ax.grid(axis='y')\n",
    "plt.legend(loc = 2);"
   ]
  },
  {
   "cell_type": "markdown",
   "metadata": {},
   "source": [
    "- В основном перевес в сторону группы В: со 2 по 12 и с 15 по 31 августа.\n",
    "\n",
    "В среднем в группе В получали больше прибыли с заказа, чем в группе А. С 18 по 19 августа это рост - резок и вызван дорогими заказами в группе В.\n",
    "\n",
    "**Кумулятивное среднее количество заказов на посетителя**\n",
    "\n",
    "Подготовим данные для графика кумулятивного среднего количества заказов на посетителя по группам. И построим график."
   ]
  },
  {
   "cell_type": "code",
   "execution_count": 23,
   "metadata": {},
   "outputs": [
    {
     "data": {
      "text/html": [
       "<div>\n",
       "<style scoped>\n",
       "    .dataframe tbody tr th:only-of-type {\n",
       "        vertical-align: middle;\n",
       "    }\n",
       "\n",
       "    .dataframe tbody tr th {\n",
       "        vertical-align: top;\n",
       "    }\n",
       "\n",
       "    .dataframe thead th {\n",
       "        text-align: right;\n",
       "    }\n",
       "</style>\n",
       "<table border=\"1\" class=\"dataframe\">\n",
       "  <thead>\n",
       "    <tr style=\"text-align: right;\">\n",
       "      <th></th>\n",
       "      <th>date</th>\n",
       "      <th>group</th>\n",
       "      <th>orders</th>\n",
       "      <th>buyers</th>\n",
       "      <th>revenue</th>\n",
       "      <th>visitors</th>\n",
       "      <th>conversion</th>\n",
       "    </tr>\n",
       "  </thead>\n",
       "  <tbody>\n",
       "    <tr>\n",
       "      <th>0</th>\n",
       "      <td>2019-08-01</td>\n",
       "      <td>A</td>\n",
       "      <td>24</td>\n",
       "      <td>20</td>\n",
       "      <td>148579</td>\n",
       "      <td>719</td>\n",
       "      <td>0.033380</td>\n",
       "    </tr>\n",
       "    <tr>\n",
       "      <th>1</th>\n",
       "      <td>2019-08-01</td>\n",
       "      <td>B</td>\n",
       "      <td>21</td>\n",
       "      <td>20</td>\n",
       "      <td>101217</td>\n",
       "      <td>713</td>\n",
       "      <td>0.029453</td>\n",
       "    </tr>\n",
       "    <tr>\n",
       "      <th>2</th>\n",
       "      <td>2019-08-02</td>\n",
       "      <td>A</td>\n",
       "      <td>43</td>\n",
       "      <td>37</td>\n",
       "      <td>240181</td>\n",
       "      <td>1337</td>\n",
       "      <td>0.032162</td>\n",
       "    </tr>\n",
       "    <tr>\n",
       "      <th>3</th>\n",
       "      <td>2019-08-02</td>\n",
       "      <td>B</td>\n",
       "      <td>45</td>\n",
       "      <td>43</td>\n",
       "      <td>266748</td>\n",
       "      <td>1294</td>\n",
       "      <td>0.034776</td>\n",
       "    </tr>\n",
       "    <tr>\n",
       "      <th>4</th>\n",
       "      <td>2019-08-03</td>\n",
       "      <td>A</td>\n",
       "      <td>67</td>\n",
       "      <td>61</td>\n",
       "      <td>352654</td>\n",
       "      <td>1844</td>\n",
       "      <td>0.036334</td>\n",
       "    </tr>\n",
       "    <tr>\n",
       "      <th>5</th>\n",
       "      <td>2019-08-03</td>\n",
       "      <td>B</td>\n",
       "      <td>61</td>\n",
       "      <td>59</td>\n",
       "      <td>380996</td>\n",
       "      <td>1803</td>\n",
       "      <td>0.033833</td>\n",
       "    </tr>\n",
       "  </tbody>\n",
       "</table>\n",
       "</div>"
      ],
      "text/plain": [
       "        date group  orders  buyers  revenue  visitors  conversion\n",
       "0 2019-08-01  A     24      20      148579   719       0.033380  \n",
       "1 2019-08-01  B     21      20      101217   713       0.029453  \n",
       "2 2019-08-02  A     43      37      240181   1337      0.032162  \n",
       "3 2019-08-02  B     45      43      266748   1294      0.034776  \n",
       "4 2019-08-03  A     67      61      352654   1844      0.036334  \n",
       "5 2019-08-03  B     61      59      380996   1803      0.033833  "
      ]
     },
     "execution_count": 23,
     "metadata": {},
     "output_type": "execute_result"
    }
   ],
   "source": [
    "cumulativeData['conversion'] = cumulativeData['orders']/cumulativeData['visitors']\n",
    "cumulativeDataA = cumulativeData[cumulativeData['group']=='A']\n",
    "cumulativeDataB = cumulativeData[cumulativeData['group']=='B']\n",
    "cumulativeData.sort_values(by ='date').head(6)"
   ]
  },
  {
   "cell_type": "code",
   "execution_count": 24,
   "metadata": {},
   "outputs": [
    {
     "data": {
      "image/png": "[encoded data removed]",
      "text/plain": [
       "<Figure size 1000x500 with 1 Axes>"
      ]
     },
     "metadata": {},
     "output_type": "display_data"
    }
   ],
   "source": [
    "fig, ax = plt.subplots(figsize = (10,5))\n",
    "ax.plot(cumulativeDataA['date'].dt.day, cumulativeDataA['conversion'], label='group A')\n",
    "ax.plot(cumulativeDataB['date'].dt.day, cumulativeDataB['conversion'], label='group B')\n",
    "\n",
    "ax.set_title(\"Кумулятивное среднее количество заказов на посетителя \\nАвгуст 2019 года\")\n",
    "ax.set_xlabel('календарный день августа')\n",
    "ax.set_ylabel('кумулятивное среднее количество заказов')\n",
    "\n",
    "plt.xticks (ticks=x_ticks, labels=list(x_ticks))\n",
    "ax.grid(axis='y')\n",
    "plt.ylim(0.02,0.05)\n",
    "plt.legend(loc = 2);"
   ]
  },
  {
   "cell_type": "markdown",
   "metadata": {},
   "source": [
    "- Характерный всплеск в начале месяца.\n",
    "- Кумулятивное среднее количество заказов на посетителя стабильно установилось в течении месяца.\n",
    "- Конверсия группы В выше группы А. Посетители группы В чаще становились покупателями.\n",
    "\n",
    "**Относительное изменение кумулятивного среднего количества заказов на посетителя**\n",
    "\n",
    "Подготовим данные и построим график относительного изменения кумулятивного среднего количества заказов на посетителя группы В к группе А. И построим график."
   ]
  },
  {
   "cell_type": "code",
   "execution_count": 25,
   "metadata": {},
   "outputs": [
    {
     "data": {
      "text/html": [
       "<div>\n",
       "<style scoped>\n",
       "    .dataframe tbody tr th:only-of-type {\n",
       "        vertical-align: middle;\n",
       "    }\n",
       "\n",
       "    .dataframe tbody tr th {\n",
       "        vertical-align: top;\n",
       "    }\n",
       "\n",
       "    .dataframe thead th {\n",
       "        text-align: right;\n",
       "    }\n",
       "</style>\n",
       "<table border=\"1\" class=\"dataframe\">\n",
       "  <thead>\n",
       "    <tr style=\"text-align: right;\">\n",
       "      <th></th>\n",
       "      <th>date</th>\n",
       "      <th>conversionA</th>\n",
       "      <th>conversionB</th>\n",
       "    </tr>\n",
       "  </thead>\n",
       "  <tbody>\n",
       "    <tr>\n",
       "      <th>0</th>\n",
       "      <td>2019-08-01</td>\n",
       "      <td>0.033380</td>\n",
       "      <td>0.029453</td>\n",
       "    </tr>\n",
       "    <tr>\n",
       "      <th>1</th>\n",
       "      <td>2019-08-02</td>\n",
       "      <td>0.032162</td>\n",
       "      <td>0.034776</td>\n",
       "    </tr>\n",
       "    <tr>\n",
       "      <th>2</th>\n",
       "      <td>2019-08-03</td>\n",
       "      <td>0.036334</td>\n",
       "      <td>0.033833</td>\n",
       "    </tr>\n",
       "    <tr>\n",
       "      <th>3</th>\n",
       "      <td>2019-08-04</td>\n",
       "      <td>0.031653</td>\n",
       "      <td>0.030315</td>\n",
       "    </tr>\n",
       "    <tr>\n",
       "      <th>4</th>\n",
       "      <td>2019-08-05</td>\n",
       "      <td>0.031391</td>\n",
       "      <td>0.030793</td>\n",
       "    </tr>\n",
       "    <tr>\n",
       "      <th>5</th>\n",
       "      <td>2019-08-06</td>\n",
       "      <td>0.030653</td>\n",
       "      <td>0.032783</td>\n",
       "    </tr>\n",
       "  </tbody>\n",
       "</table>\n",
       "</div>"
      ],
      "text/plain": [
       "        date  conversionA  conversionB\n",
       "0 2019-08-01  0.033380     0.029453   \n",
       "1 2019-08-02  0.032162     0.034776   \n",
       "2 2019-08-03  0.036334     0.033833   \n",
       "3 2019-08-04  0.031653     0.030315   \n",
       "4 2019-08-05  0.031391     0.030793   \n",
       "5 2019-08-06  0.030653     0.032783   "
      ]
     },
     "execution_count": 25,
     "metadata": {},
     "output_type": "execute_result"
    }
   ],
   "source": [
    "mergedCumulativeConversions = cumulativeDataA[['date','conversion']].merge(cumulativeDataB[['date','conversion']], \n",
    "                                                                           left_on='date', \n",
    "                                                                           right_on='date', \n",
    "                                                                           how='left', \n",
    "                                                                           suffixes=['A', 'B'])\n",
    "mergedCumulativeConversions.sort_values(by ='date').head(6)"
   ]
  },
  {
   "cell_type": "code",
   "execution_count": 26,
   "metadata": {},
   "outputs": [
    {
     "data": {
      "image/png": "[encoded data removed]",
      "text/plain": [
       "<Figure size 1000x500 with 1 Axes>"
      ]
     },
     "metadata": {},
     "output_type": "display_data"
    }
   ],
   "source": [
    "fig, ax = plt.subplots(figsize = (10,5))\n",
    "plt.plot(mergedCumulativeConversions['date'].dt.day, \n",
    "         mergedCumulativeConversions['conversionB']/mergedCumulativeConversions['conversionA']-1, \n",
    "         label=\"conversionB/conversionA - 1\",\n",
    "         color = 'darkorchid')\n",
    "\n",
    "ax.set_title(\"Относительный прирост конверсии группы B относительно группы A \\nАвгуст 2019 года\")\n",
    "ax.set_xlabel('календарный день августа')\n",
    "ax.set_ylabel('Относительное изменение')\n",
    "\n",
    "plt.axhline(y=0, color='orangered', linestyle='--')\n",
    "plt.axhline(y=0.145, color='darkcyan', linestyle='--')\n",
    "plt.ylim(-0.5, 0.5)\n",
    "\n",
    "plt.xticks (ticks=x_ticks, labels=list(x_ticks))\n",
    "ax.grid(axis='y')\n",
    "plt.legend(loc = 2);"
   ]
  },
  {
   "cell_type": "markdown",
   "metadata": {},
   "source": [
    "- Конверсия группы В стабильно выше группы А после 5 августа.\n",
    "\n",
    "С 6 августа тестовая группа В уверенно лидирует по приросту конверсии посетителей в покупатели по отношению к контрольной группе А. В целом группа В выглядит лучше.\n",
    "\n",
    "**Количество заказов по пользователям**\n",
    "\n",
    "Подготовим данные и построим точечный график количества заказов по пользователям. Проанализируем его на предмет выявления анамалий. "
   ]
  },
  {
   "cell_type": "code",
   "execution_count": 27,
   "metadata": {},
   "outputs": [
    {
     "data": {
      "text/html": [
       "<div>\n",
       "<style scoped>\n",
       "    .dataframe tbody tr th:only-of-type {\n",
       "        vertical-align: middle;\n",
       "    }\n",
       "\n",
       "    .dataframe tbody tr th {\n",
       "        vertical-align: top;\n",
       "    }\n",
       "\n",
       "    .dataframe thead th {\n",
       "        text-align: right;\n",
       "    }\n",
       "</style>\n",
       "<table border=\"1\" class=\"dataframe\">\n",
       "  <thead>\n",
       "    <tr style=\"text-align: right;\">\n",
       "      <th></th>\n",
       "      <th>visitorId</th>\n",
       "      <th>orders</th>\n",
       "    </tr>\n",
       "  </thead>\n",
       "  <tbody>\n",
       "    <tr>\n",
       "      <th>1023</th>\n",
       "      <td>4256040402</td>\n",
       "      <td>11</td>\n",
       "    </tr>\n",
       "    <tr>\n",
       "      <th>591</th>\n",
       "      <td>2458001652</td>\n",
       "      <td>11</td>\n",
       "    </tr>\n",
       "    <tr>\n",
       "      <th>569</th>\n",
       "      <td>2378935119</td>\n",
       "      <td>9</td>\n",
       "    </tr>\n",
       "    <tr>\n",
       "      <th>487</th>\n",
       "      <td>2038680547</td>\n",
       "      <td>8</td>\n",
       "    </tr>\n",
       "    <tr>\n",
       "      <th>299</th>\n",
       "      <td>1230306981</td>\n",
       "      <td>5</td>\n",
       "    </tr>\n",
       "    <tr>\n",
       "      <th>959</th>\n",
       "      <td>3967698036</td>\n",
       "      <td>3</td>\n",
       "    </tr>\n",
       "  </tbody>\n",
       "</table>\n",
       "</div>"
      ],
      "text/plain": [
       "       visitorId  orders\n",
       "1023  4256040402  11    \n",
       "591   2458001652  11    \n",
       "569   2378935119  9     \n",
       "487   2038680547  8     \n",
       "299   1230306981  5     \n",
       "959   3967698036  3     "
      ]
     },
     "execution_count": 27,
     "metadata": {},
     "output_type": "execute_result"
    }
   ],
   "source": [
    "ordersByUsers = (orders.groupby('visitorId', as_index = False)\n",
    "                       .agg({'transactionId': 'nunique'})\n",
    "                       .sort_values(by='transactionId', ascending = False))\n",
    "ordersByUsers.columns = ['visitorId','orders']\n",
    "\n",
    "ordersByUsers.sort_values(by ='orders', ascending = False).head(6)"
   ]
  },
  {
   "cell_type": "code",
   "execution_count": 28,
   "metadata": {},
   "outputs": [
    {
     "data": {
      "image/png": "[encoded data removed]",
      "text/plain": [
       "<Figure size 1000x500 with 1 Axes>"
      ]
     },
     "metadata": {},
     "output_type": "display_data"
    }
   ],
   "source": [
    "x_values = pd.Series(range(0, len(ordersByUsers)))\n",
    "y_values = ordersByUsers['orders']\n",
    "\n",
    "fig, ax = plt.subplots(figsize = (10,5))\n",
    "plt.scatter(x_values,y_values, color = 'navy', alpha = 0.5)\n",
    "\n",
    "ax.set_title(\"Количество заказов по пользователям\")\n",
    "ax.set_xlabel('количество пользователей')\n",
    "ax.set_ylabel('количество заказов')\n",
    "\n",
    "ax.grid(True)\n",
    "plt.show()"
   ]
  },
  {
   "cell_type": "markdown",
   "metadata": {},
   "source": [
    "-  есть небольшое количество пользователей совершающее больше двух заказов: 3 и даже 11 заказов.\n",
    "\n",
    "Обычно посетители совершают 1 заказ. Но есть небольшое количество пользователей совершающее 3 и даже 11 заказов. Это вполне может быть анамалией. Пользователй совершивших более 1 заказа около 100. Совершение двух заказов вполне нормально.\\\n",
    "Выведим 95 и 99 процентили количества заказов на пользователя."
   ]
  },
  {
   "cell_type": "code",
   "execution_count": 29,
   "metadata": {},
   "outputs": [
    {
     "name": "stdout",
     "output_type": "stream",
     "text": [
      "[1. 3.]\n"
     ]
    }
   ],
   "source": [
    "print(np.percentile(ordersByUsers['orders'],[95,99]))"
   ]
  },
  {
   "cell_type": "markdown",
   "metadata": {},
   "source": [
    "- 95 % пользователей совершали менее 2.\n",
    "- Не более 5% посетителей совершали больше одного заказа. И не более 1 % совершали больше 3 заказов.\n",
    "\n",
    "Так как 95 % пользователей совершали менее 2 заказов, то имеет смысл установить границу в 2 заказа, а остальное выше считать аномально большим количеством заказов.\n",
    "\n",
    "**Стоимость заказов**\n",
    "\n",
    "Построим точечный график стоимости заказов в двух масштабах: общем и близком."
   ]
  },
  {
   "cell_type": "code",
   "execution_count": 30,
   "metadata": {},
   "outputs": [
    {
     "data": {
      "image/png": "[encoded data removed]",
      "text/plain": [
       "<Figure size 1000x500 with 2 Axes>"
      ]
     },
     "metadata": {},
     "output_type": "display_data"
    }
   ],
   "source": [
    "x_values = pd.Series(range(0, len(orders['revenue'])))\n",
    "y_values = orders['revenue'].sort_values(ascending = False)\n",
    "\n",
    "fig, ax = plt.subplots(2,1, figsize = (10,5))\n",
    "plt.subplots_adjust(hspace=0.4)\n",
    "for i in [0,1]:\n",
    "    ax[i].scatter(x_values,y_values, color = 'navy', alpha = 0.5)   \n",
    "    \n",
    "    ax[i].set_ylabel('cтоимость')\n",
    "    ax[i].grid(axis='y')\n",
    "    \n",
    "ax[1].set_xlabel('наблюдения по очереди')    \n",
    "ax[0].set_title(\"Стоимость заказов\")\n",
    "ax[1].set_ylim(0, 210000)\n",
    "plt.show()"
   ]
  },
  {
   "cell_type": "markdown",
   "metadata": {},
   "source": [
    "- есть небольшое количество дорогих заказов: в районе 200 тысяч и 1.3 млн.\n",
    "- Большенство совершают заказы на сумму менее 100 тысяч.\n",
    "\n",
    "Выведим 95 и 99 процентили стоимости заказов."
   ]
  },
  {
   "cell_type": "code",
   "execution_count": 31,
   "metadata": {},
   "outputs": [
    {
     "name": "stdout",
     "output_type": "stream",
     "text": [
      "[28306.5 58220. ]\n"
     ]
    }
   ],
   "source": [
    "print(np.percentile(orders['revenue'],[95,99]))"
   ]
  },
  {
   "cell_type": "markdown",
   "metadata": {},
   "source": [
    "- 95 % заказов совершено на сумму менее 29 тысяч.\n",
    "- Менее 5% заказов совершено на сумму более 28 тысяч и менее 1% на сумму более 58 тысяч.\n",
    "\n",
    "Заказы более 28 тысяч можно считать крупными. За аномально крупные заказы, существенно влияющие на исследование, примем границу в 30 тысяч. То есть выше - это выбросы, аномально влияющие на средний чек."
   ]
  },
  {
   "cell_type": "markdown",
   "metadata": {},
   "source": [
    "<a id = 'statistics'></a>\n",
    "### [Статистическая часть](#plan)"
   ]
  },
  {
   "cell_type": "markdown",
   "metadata": {},
   "source": [
    "**Подготовка сырых данных для расчётов статистической значимости**\n",
    "\n",
    "Подготовим данные для расчёта статистической значимости по сырым данным (с аномалиями).\n",
    "Создадим переменные для каждой группы, хранящие количество заказов на пользователя."
   ]
  },
  {
   "cell_type": "code",
   "execution_count": 32,
   "metadata": {},
   "outputs": [
    {
     "data": {
      "text/plain": [
       "'Group A, len: 477'"
      ]
     },
     "metadata": {},
     "output_type": "display_data"
    },
    {
     "data": {
      "text/html": [
       "<div>\n",
       "<style scoped>\n",
       "    .dataframe tbody tr th:only-of-type {\n",
       "        vertical-align: middle;\n",
       "    }\n",
       "\n",
       "    .dataframe tbody tr th {\n",
       "        vertical-align: top;\n",
       "    }\n",
       "\n",
       "    .dataframe thead th {\n",
       "        text-align: right;\n",
       "    }\n",
       "</style>\n",
       "<table border=\"1\" class=\"dataframe\">\n",
       "  <thead>\n",
       "    <tr style=\"text-align: right;\">\n",
       "      <th></th>\n",
       "      <th>visitorId</th>\n",
       "      <th>orders</th>\n",
       "    </tr>\n",
       "  </thead>\n",
       "  <tbody>\n",
       "    <tr>\n",
       "      <th>473</th>\n",
       "      <td>4256040402</td>\n",
       "      <td>7</td>\n",
       "    </tr>\n",
       "    <tr>\n",
       "      <th>217</th>\n",
       "      <td>2038680547</td>\n",
       "      <td>5</td>\n",
       "    </tr>\n",
       "    <tr>\n",
       "      <th>268</th>\n",
       "      <td>2458001652</td>\n",
       "      <td>5</td>\n",
       "    </tr>\n",
       "    <tr>\n",
       "      <th>259</th>\n",
       "      <td>2378935119</td>\n",
       "      <td>4</td>\n",
       "    </tr>\n",
       "    <tr>\n",
       "      <th>444</th>\n",
       "      <td>3967698036</td>\n",
       "      <td>3</td>\n",
       "    </tr>\n",
       "  </tbody>\n",
       "</table>\n",
       "</div>"
      ],
      "text/plain": [
       "      visitorId  orders\n",
       "473  4256040402  7     \n",
       "217  2038680547  5     \n",
       "268  2458001652  5     \n",
       "259  2378935119  4     \n",
       "444  3967698036  3     "
      ]
     },
     "metadata": {},
     "output_type": "display_data"
    },
    {
     "data": {
      "text/plain": [
       "'Group B, len: 559'"
      ]
     },
     "metadata": {},
     "output_type": "display_data"
    },
    {
     "data": {
      "text/html": [
       "<div>\n",
       "<style scoped>\n",
       "    .dataframe tbody tr th:only-of-type {\n",
       "        vertical-align: middle;\n",
       "    }\n",
       "\n",
       "    .dataframe tbody tr th {\n",
       "        vertical-align: top;\n",
       "    }\n",
       "\n",
       "    .dataframe thead th {\n",
       "        text-align: right;\n",
       "    }\n",
       "</style>\n",
       "<table border=\"1\" class=\"dataframe\">\n",
       "  <thead>\n",
       "    <tr style=\"text-align: right;\">\n",
       "      <th></th>\n",
       "      <th>visitorId</th>\n",
       "      <th>orders</th>\n",
       "    </tr>\n",
       "  </thead>\n",
       "  <tbody>\n",
       "    <tr>\n",
       "      <th>326</th>\n",
       "      <td>2458001652</td>\n",
       "      <td>6</td>\n",
       "    </tr>\n",
       "    <tr>\n",
       "      <th>312</th>\n",
       "      <td>2378935119</td>\n",
       "      <td>5</td>\n",
       "    </tr>\n",
       "    <tr>\n",
       "      <th>554</th>\n",
       "      <td>4256040402</td>\n",
       "      <td>4</td>\n",
       "    </tr>\n",
       "    <tr>\n",
       "      <th>36</th>\n",
       "      <td>249864742</td>\n",
       "      <td>3</td>\n",
       "    </tr>\n",
       "    <tr>\n",
       "      <th>271</th>\n",
       "      <td>2038680547</td>\n",
       "      <td>3</td>\n",
       "    </tr>\n",
       "  </tbody>\n",
       "</table>\n",
       "</div>"
      ],
      "text/plain": [
       "      visitorId  orders\n",
       "326  2458001652  6     \n",
       "312  2378935119  5     \n",
       "554  4256040402  4     \n",
       "36   249864742   3     \n",
       "271  2038680547  3     "
      ]
     },
     "metadata": {},
     "output_type": "display_data"
    }
   ],
   "source": [
    "#-------------------------------------------------------------Group А\n",
    "ordersByUsersA = (orders[orders['group'] == 'A']\n",
    "                  .groupby('visitorId', as_index=False)\n",
    "                  .agg({'transactionId': pd.Series.nunique}))\n",
    "ordersByUsersA.columns = ['visitorId', 'orders']\n",
    "#-------------------------------------------------------------Group B\n",
    "ordersByUsersB = (orders[orders['group'] == 'B']\n",
    "                  .groupby('visitorId', as_index=False)\n",
    "                  .agg({'transactionId': pd.Series.nunique}))\n",
    "ordersByUsersB.columns = ['visitorId', 'orders']\n",
    "\n",
    "display(f\"Group A, len: {len(ordersByUsersA)}\",\n",
    "        ordersByUsersA.sort_values(by = 'orders',ascending = False).head(),\n",
    "        f\"Group B, len: {len(ordersByUsersB)}\",\n",
    "        ordersByUsersB.sort_values(by = 'orders',ascending = False).head())"
   ]
  },
  {
   "cell_type": "markdown",
   "metadata": {},
   "source": [
    "Для проверки статистической значимости в различии среднего количества заказов на посетителя по критерию Манна-Уитни создадим для каждой группы переменные хранящие соотвествующие посетителям количество заказов, в том числе тем, кто ничего не заказывал - им соотвествует 0 заказов. То есть там будут все посетители: и совершившие заказ и нет."
   ]
  },
  {
   "cell_type": "code",
   "execution_count": 33,
   "metadata": {},
   "outputs": [
    {
     "data": {
      "text/plain": [
       "'Group A, len: 18699'"
      ]
     },
     "metadata": {},
     "output_type": "display_data"
    },
    {
     "data": {
      "text/plain": [
       "473    7\n",
       "217    5\n",
       "268    5\n",
       "259    4\n",
       "444    3\n",
       "Name: orders, dtype: int64"
      ]
     },
     "metadata": {},
     "output_type": "display_data"
    },
    {
     "data": {
      "text/plain": [
       "'Group B, len: 18880'"
      ]
     },
     "metadata": {},
     "output_type": "display_data"
    },
    {
     "data": {
      "text/plain": [
       "326    6\n",
       "312    5\n",
       "554    4\n",
       "36     3\n",
       "65     3\n",
       "Name: orders, dtype: int64"
      ]
     },
     "metadata": {},
     "output_type": "display_data"
    }
   ],
   "source": [
    "visitors = visitors.sort_values(by = 'date', ascending = True)\n",
    "#-------------------------------------------------------------Group А\n",
    "sampleA = pd.concat([ordersByUsersA['orders'],\n",
    "                     pd.Series(0, index=np.arange(visitors[visitors['group']==\"A\"]['visitors'].sum() - len(ordersByUsersA['orders'])), \n",
    "                               name='orders')], axis=0)\n",
    "#-------------------------------------------------------------Group B\n",
    "sampleB = pd.concat([ordersByUsersB['orders'],\n",
    "                     pd.Series(0, index=np.arange(visitors[visitors['group']==\"B\"]['visitors'].sum() - len(ordersByUsersB['orders'])), \n",
    "                               name='orders')], axis=0)\n",
    "\n",
    "display(f\"Group A, len: {sampleA.shape[0]}\",\n",
    "        sampleA.sort_values(ascending = False).head(),\n",
    "        f\"Group B, len: {sampleB.shape[0]}\",\n",
    "        sampleB.sort_values(ascending = False).head())"
   ]
  },
  {
   "cell_type": "markdown",
   "metadata": {},
   "source": [
    "\"Сырые\" данные подготовлены.\n",
    "\n",
    "**Статистическая значимость различий в среднем количестве заказов на посетителя (сырые данные)**\n",
    "\n",
    "Проведём двусторонний тест Уилкоксона-Манна-Уитни для проверки различия между двумя выборками по сырым данным о количестве заказов на посетителя(с выбросами).\n",
    "\n",
    "- Порог статистической значимости 5 %.\n",
    "- Нулевая гипотеза: \"Нет различий в среднем количестве заказов\".\n",
    "- Альтернативаня гипотеза: \"Различия в среднем количестве заказов есть\".\n",
    "\n",
    "Так же найдём относительное различие в среднего количества заказов на пользователя между группами."
   ]
  },
  {
   "cell_type": "code",
   "execution_count": 34,
   "metadata": {},
   "outputs": [
    {
     "name": "stdout",
     "output_type": "stream",
     "text": [
      "p-value: 0.015\n",
      "Отвергаем нуливую гипотезу. Есть различия в количестве заказов между группами.\n",
      "Относительный прирост в среднем количестве заказов на посетителя группы В к А: 0.150\n"
     ]
    }
   ],
   "source": [
    "alpha = .05\n",
    "result = st.mannwhitneyu(sampleA, sampleB)\n",
    "\n",
    "print(\"p-value: {0:.3f}\".format(result.pvalue))\n",
    "if result.pvalue < alpha:\n",
    "    print('Отвергаем нуливую гипотезу. Есть различия в количестве заказов между группами.')\n",
    "else:\n",
    "    print('Не отвергаем нуливую гипотезу. Нельзя сделать вывод, что есть различия в количестве заказов между группами.')\n",
    "    \n",
    "print(\"Относительный прирост в среднем количестве заказов на посетителя группы В к А: {0:.3f}\"\n",
    "      .format(sampleB.mean() / sampleA.mean() - 1))"
   ]
  },
  {
   "cell_type": "markdown",
   "metadata": {},
   "source": [
    "По сырым данным в случае наблюдаемого различия в количестве заказов на посетителя они будут являтся статистически значимыми. То есть вероятность наблюдения разнициы будет скорее закономерностью, чем случайностью. P-value = 1.5 % и значительно меньше порога статистической значимости. При этом относительный прирост в среднем  количестве заказов на посетителя группы В к А составляет 15 %. По сырым данным тестовая группа В лучше в отношении заказов.\n",
    "\n",
    "**Статистическая занчимость различий в среднем чеке заказа  (сырые данные)**\n",
    "\n",
    "Проведём двусторонний тест Уилкоксона-Манна-Уитни для проверки различия между двумя выборками по сырым данным о выручке (с выбросами).\n",
    "\n",
    "- Порог статистической значимости 5 %.\n",
    "- Нулевая гипотеза: \"Нет различия в среднем чеке между группами.\".\n",
    "- Альтернативаня гипотеза: \"Есть различия в среднем чеке между группами.\"\n",
    "\n",
    "Так же найдём относительное различие в среднем чеке между группами."
   ]
  },
  {
   "cell_type": "code",
   "execution_count": 35,
   "metadata": {},
   "outputs": [
    {
     "name": "stdout",
     "output_type": "stream",
     "text": [
      "p-value: 0.953\n",
      "Не отвергаем нуливую гипотезу. Нельзя сделать вывод, что различия в среднем чеке между группами есть.\n",
      "Относительное различие в среднем чеке заказа группы В к А: 0.229\n"
     ]
    }
   ],
   "source": [
    "alpha = .05\n",
    "result = st.mannwhitneyu(orders[orders['group'] == 'A']['revenue'],\n",
    "                         orders[orders['group'] == 'B']['revenue'])\n",
    "print(\"p-value: {0:.3f}\".format(result.pvalue))\n",
    "if result.pvalue < alpha:\n",
    "    print('Отвергаем нуливую гипотезу. Есть различия в среднем чеке между группами.')\n",
    "else:\n",
    "    print('Не отвергаем нуливую гипотезу. Нельзя сделать вывод, что различия в среднем чеке между группами есть.')\n",
    "    \n",
    "print(\"Относительное различие в среднем чеке заказа группы В к А: {0:.3f}\"\n",
    "      .format(orders[orders['group'] == 'B']['revenue'].mean() / orders[orders['group'] == 'A']['revenue'].mean() - 1))"
   ]
  },
  {
   "cell_type": "markdown",
   "metadata": {},
   "source": [
    "P-value = 0.953. По сырым данным нет статистически значимых различий в среднем чеке между группами. То есть в случае наблюдаемой разницы она не будет статистически значимой. То есть вероятность получения наблюдения разницы будет скорее случайностью, чем закономерностью. При этом относительное различие в среднем чеке заказа группы В к группе А сотавляет 22.9 %. Похоже, что влияния аномальных выбросов приводят к таким большим значениям по относительному различию в среднем чеке.\n",
    "\n",
    "**Фильтрация аномалий**\n",
    "\n",
    "При оценке значения количества анамалиных заказов была выбрана граница в 2 заказа. А при оценке значения выручки, занчения выше 30 тысяч будут считатся анамальными. При фильтрации анамалий по этим границам: по заказам будет отброшено до 5% анамальных посетителей и по выручке около 5% посетителей с дорогими заказами.\n",
    "\n",
    "Отфильтрованных пользователей соберём в отдельной переменной. Так же создадим отфильтрованные выборки для проверки статистической значимости различий в количестве заказов на посетителя. "
   ]
  },
  {
   "cell_type": "code",
   "execution_count": 36,
   "metadata": {},
   "outputs": [
    {
     "name": "stdout",
     "output_type": "stream",
     "text": [
      "Количество аномальных пользователей: 62\n"
     ]
    },
    {
     "data": {
      "text/plain": [
       "1099    148427295\n",
       "928     204675465\n",
       "36      249864742\n",
       "684     358944393\n",
       "648     382846391\n",
       "Name: visitorId, dtype: int64"
      ]
     },
     "metadata": {},
     "output_type": "display_data"
    }
   ],
   "source": [
    "usersWithManyOrders = pd.concat([ordersByUsersA[ordersByUsersA['orders'] > 2]['visitorId'],\n",
    "                                 ordersByUsersB[ordersByUsersB['orders'] > 2]['visitorId']],\n",
    "                                axis=0)\n",
    "usersWithExpensiveOrders = orders[orders['revenue'] > 30000]['visitorId']\n",
    "abnormalUsers = (pd.concat([usersWithManyOrders, usersWithExpensiveOrders], axis=0)\n",
    "                        .drop_duplicates()\n",
    "                        .sort_values())\n",
    "\n",
    "print(f\"Количество аномальных пользователей: {abnormalUsers.shape[0]}\")\n",
    "display(abnormalUsers.head(5))"
   ]
  },
  {
   "cell_type": "code",
   "execution_count": 37,
   "metadata": {},
   "outputs": [],
   "source": [
    "sampleAFiltered = pd.concat([ordersByUsersA[\n",
    "                            np.logical_not(ordersByUsersA['visitorId'].isin(abnormalUsers))]['orders'],\n",
    "                            pd.Series(0, index=np.arange(visitors[visitors['group']==\"A\"]['visitors'].sum() - len(ordersByUsersA['orders'])),\n",
    "                            name='orders')],\n",
    "                            axis=0)\n",
    "\n",
    "sampleBFiltered = pd.concat([ordersByUsersB[\n",
    "                            np.logical_not(ordersByUsersB['visitorId'].isin(abnormalUsers))]['orders'],\n",
    "                            pd.Series(0,index=np.arange(visitors[visitors['group']==\"B\"]['visitors'].sum() - len(ordersByUsersB['orders'])),\n",
    "                            name='orders')],\n",
    "                            axis=0) "
   ]
  },
  {
   "cell_type": "markdown",
   "metadata": {},
   "source": [
    "**Статистическая значимость различий в среднем количестве заказов на посетителя (фильтрованные данные)**\n",
    "\n",
    "Проведём двусторонний тест Уилкоксона-Манна-Уитни для проверки различия между двумя выборками по фильтрованным данным о количестве заказов на посетителя(без выбросов).\n",
    "\n",
    "- Порог статистической значимости 5 %.\n",
    "- Нулевая гипотеза: \"Нет различий в среднем количестве заказов\".\n",
    "- Альтернативаня гипотеза: \"Различия в среднем количестве заказов есть\".\n",
    "\n",
    "Так же найдём относительное различие в среднего количества заказов на пользователя между группами."
   ]
  },
  {
   "cell_type": "code",
   "execution_count": 38,
   "metadata": {},
   "outputs": [
    {
     "name": "stdout",
     "output_type": "stream",
     "text": [
      "p-value: 0.015\n",
      "Отвергаем нуливую гипотезу. Есть различия в количестве заказов между группами.\n",
      "Относительный прирост в среднем количестве заказов на посетителя группы В к А: 0.174\n"
     ]
    }
   ],
   "source": [
    "alpha = .05\n",
    "result = st.mannwhitneyu(sampleAFiltered, sampleBFiltered)\n",
    "\n",
    "print(\"p-value: {0:.3f}\".format(result.pvalue))\n",
    "if result.pvalue < alpha:\n",
    "    print('Отвергаем нуливую гипотезу. Есть различия в количестве заказов между группами.')\n",
    "else:\n",
    "    print('Не отвергаем нуливую гипотезу. Нельзя сделать вывод, что есть различия в количестве заказов между группами.')\n",
    "    \n",
    "print(\"Относительный прирост в среднем количестве заказов на посетителя группы В к А: {0:.3f}\"\n",
    "      .format(sampleBFiltered.mean()/sampleAFiltered.mean()-1))"
   ]
  },
  {
   "cell_type": "markdown",
   "metadata": {},
   "source": [
    "- Различия в среднем количестве заказов между группами статистически значимы.\n",
    "\n",
    "После фильтрации анамалий p-value составляет 1.5 % (не большие изменения по сравнению с сырыми данными). Что говорит о том, что вероятнсть наблюдать различия в количестве заказов между группами А и В будет закономерностью и получить такое различие случайно - почти не возможно. Различие в количестве заказов статистически значимо.\n",
    "\n",
    "По очищенным данным Группа В доминирует над группой А - относительное различие в среднем количестве заказов на посетителя в целом между группами В и А составляет 17.4 % (увеличилось, по сравнению с сырыми данными). Тестовая группа В лучше группы А.\n",
    "\n",
    "**Статистическая занчимость различий в среднем чеке заказа (фильтрованные данные)**\n",
    "\n",
    "Проведём двусторонний тест Уилкоксона-Манна-Уитни для проверки различия между двумя выборками по фильтрованным данным о выручке (без выбросов).\n",
    "\n",
    "- Порог статистической значимости 5 %.\n",
    "- Нулевая гипотеза: \"Нет различия в среднем чеке между группами.\".\n",
    "- Альтернативаня гипотеза: \"Есть различия в среднем чеке между группами.\"\n",
    "\n",
    "Так же найдём относительное различие в среднем чеке между группами."
   ]
  },
  {
   "cell_type": "code",
   "execution_count": 39,
   "metadata": {},
   "outputs": [
    {
     "name": "stdout",
     "output_type": "stream",
     "text": [
      "p-value: 0.628\n",
      "Не отвергаем нуливую гипотезу. Нельзя сделать вывод, что различия в среднем чеке между группами есть.\n",
      "Относительное различие в среднем чеке заказа группы В к А: -0.038\n"
     ]
    }
   ],
   "source": [
    "alpha = .05\n",
    "result = st.mannwhitneyu(orders[np.logical_and(orders['group'] == 'A',\n",
    "                                    np.logical_not(orders['visitorId'].isin(abnormalUsers)))]['revenue'],\n",
    "                        orders[np.logical_and(orders['group'] == 'B',\n",
    "                                    np.logical_not(orders['visitorId'].isin(abnormalUsers)))]['revenue'])\n",
    "print(\"p-value: {0:.3f}\".format(result.pvalue))\n",
    "if result.pvalue < alpha:\n",
    "    print('Отвергаем нуливую гипотезу. Есть различия в среднем чеке между группами.')\n",
    "else:\n",
    "    print('Не отвергаем нуливую гипотезу. Нельзя сделать вывод, что различия в среднем чеке между группами есть.')\n",
    "    \n",
    "print(\"Относительное различие в среднем чеке заказа группы В к А: {0:.3f}\"\n",
    "      .format(orders[np.logical_and(orders['group'] == 'B',\n",
    "                np.logical_not(orders['visitorId'].isin(abnormalUsers)))]['revenue'].mean() / \n",
    "              orders[np.logical_and(orders['group'] == 'A',\n",
    "                np.logical_not(orders['visitorId'].isin(abnormalUsers)))]['revenue'].mean() - 1))"
   ]
  },
  {
   "cell_type": "markdown",
   "metadata": {},
   "source": [
    "- Различия в среднем чеке между группами статистически не значимы.\n",
    "\n",
    "P-value по очищенным данным составляет 0.628 (снизилось на 32.5 п.п.). Это говорит о том, что наблюдение различия значений средних чеков групп можно получить скорее случайно с вероятностью в 62.8%, то есть \"достаточно редко\". Наблюдения с различием в средних чеках между группами будут наблюдатся маловероятно.  Следовательно это слишком большая вероятность чтобы сделать вывод о статистически значимом различии средних чеков между группами А и В. Они скорее будут схожие, а разница при наблюдении будет вероятно получена случайна.\n",
    "\n",
    "Относительное различие в среднем чеке между группами В и А составляет -0.038, то есть проигрышь группы В - 3.8 %. Ранее, влияение анамалий существенно искажало этот показатель. "
   ]
  },
  {
   "cell_type": "markdown",
   "metadata": {},
   "source": [
    "<a id = 'summary'></a>\n",
    "### [Итоги аналитической и статистической части](#plan)\n",
    "\n",
    "**Выручка и средний чек**\\\n",
    "Выручка и кумулятивный средний группы В больше, чем группы А. Но различия в среднем чеке групп статистически не значимы как по сырым, так и по отчищеным данным. Относительная разница среднего чека группы В к группе А вв общем составляет -3.8 %. Группа В лучше по этим показателям, но статистически - нет значимой разницы между группами.\n",
    "\n",
    "**Заказы и конверсия**\\\n",
    "Кумулятивное среднее количество заказов на посетителя группы В больше, чем группы А. Конверсия и её относительный прирост группы В стабильно выше группы А. Различия в среднем количестве заказов на покупателя между группами статистически значимы как по сырым, так и по отчищенным данным. Относительная разница среднего чека группы В к группе А в общем составляет -17.4 %. Группа В лучше по этим показателям и разница имеет статистическую значимость.\n",
    "___"
   ]
  },
  {
   "cell_type": "markdown",
   "metadata": {},
   "source": [
    "<a id = 'final_summary'></a>\n",
    "## [Общий вывод по исследованию](#plan)"
   ]
  },
  {
   "cell_type": "markdown",
   "metadata": {},
   "source": [
    "**Гипотезы**\n",
    "\n",
    "- ICE не оценивает охват аудитории, что делает его менее детальным, но упращает расчёт.\n",
    "- RICE оценевает более детальнее. Параметр Reach делает оценку более приближенной к реальности.\n",
    "\n",
    "Касаемо представленного в работе списка гипотез, то по ICE наибольшее количество очков пабирают гипотезы:\n",
    "* 8: Запустить акцию, дающую скидку на товар в день рождения;\n",
    "* 0: Добавить два новых канала привлечения трафика, что позволит привлекать на 30% больше пользователей;\n",
    "* 7: Добавить форму подписки на все основные страницы, чтобы собрать базу клиентов для email-рассылок.\\\n",
    "Что обусловлено большим по сравнению с другимим параметром влияния (Impact) и уверенности в результате (Confidence),а так же средними показателями затрат (Efforts).\n",
    "\n",
    "По RICE наибольшее количество очков набирают гипотезы:\n",
    "* 7: Добавить форму подписки на все основные страницы, чтобы собрать базу клиентов для email-рассылок;\n",
    "* 2: Добавить блоки рекомендаций товаров на сайт интернет магазина, чтобы повысить конверсию и средний чек заказа;\n",
    "* 0: Добавить два новых канала привлечения трафика, что позволит привлекать на 30% больше пользователей.\\\n",
    "Что обусловдено существенным влиянием параметра охвата (Reach).\n",
    "\n",
    "Оценка гипотез по принципу ICE  (Сила влияния, Уверенность в результате, Стоимость тестирования) затрагивает более общую направленность бизнеса и не учитывает параметр Reach (Охват аудитории). То есть это более \"узкая\" - менее детализированная оценка. Оценка же по RICE более детализированная и ближе к реальности, так как учитывает данные по охвату. Не стоит не дооценивать параметр Reach. Может быть влиятельная идея с небольшими затратами в результате которой мы уверены, но одномоментно будет охватывать не большую аудиторию (пример гипотезы с индексом 8 - скидка на день рождения). Лучше использовать RICE в случаях непосредственно связанных с широкой и разнообразной аудиторией (скорее даст более индивидуальный подход). ICE скорее более удобно применять если \"сегмент\" один и единственный. К примеру улучшение контрольной панели для пилотов авиалайнеров может улучшить реакцию пилотов на различные ситуации тем самым сократив риски и расходы компании.\n",
    "\n",
    "**Результаты теста**\n",
    "\n",
    "Выручка и средний чек.\\\n",
    "Выручка и кумулятивный средний группы В больше, чем группы А. Но различия в среднем чеке групп статистически не значимы как по сырым, так и по отчищеным данным. Относительная разница среднего чека группы В к группе А вв общем составляет -3.8 %. Группа В лучше по этим показателям, но статистически - нет значимой разницы между группами.\n",
    "\n",
    "Заказы и конверсия.\\\n",
    "Кумулятивное среднее количество заказов на посетителя группы В больше, чем группы А. Конверсия и её относительный прирост группы В стабильно выше группы А. Различия в среднем количестве заказов на покупателя между группами статистически значимы как по сырым, так и по отчищенным данным. Относительная разница среднего чека группы В к группе А в общем составляет -17.4 %. Группа В лучше по этим показателям и разница имеет статистическую значимость.\n",
    "\n",
    "**Вывод по тесту**\\\n",
    "Тестируемая группа В показывает себя лучше контрольной группы А по выручке, среднему чеку и конверсии. Статистически значимой разницы в средних чеках группы В к группе А не наблюдаеться. В целом - А/В тест имеет успешные результаты у группы В. Есть статистически значивый эффект увеличения конверсии покупателей в посетителей в тестовой группе В.\n",
    "\n",
    "Признать тест успешным, остановить.\n",
    "___"
   ]
  },
  {
   "cell_type": "markdown",
   "metadata": {},
   "source": [
    "[🡅🡅🡅](#top)"
   ]
  }
 ],
 "metadata": {
  "ExecuteTimeLog": [
   {
    "duration": 1196,
    "start_time": "2023-11-17T22:53:37.553Z"
   },
   {
    "duration": 7,
    "start_time": "2023-11-17T22:53:38.750Z"
   },
   {
    "duration": 331,
    "start_time": "2023-11-17T22:53:38.758Z"
   },
   {
    "duration": 37,
    "start_time": "2023-11-17T22:53:39.091Z"
   },
   {
    "duration": 42,
    "start_time": "2023-11-17T22:53:39.130Z"
   },
   {
    "duration": 23,
    "start_time": "2023-11-17T22:53:39.173Z"
   },
   {
    "duration": 57,
    "start_time": "2023-11-17T22:53:39.197Z"
   },
   {
    "duration": 14,
    "start_time": "2023-11-17T22:53:39.255Z"
   },
   {
    "duration": 26,
    "start_time": "2023-11-17T22:53:39.270Z"
   },
   {
    "duration": 276,
    "start_time": "2023-11-17T22:53:39.297Z"
   },
   {
    "duration": 230,
    "start_time": "2023-11-17T22:53:39.575Z"
   },
   {
    "duration": 219,
    "start_time": "2023-11-17T22:53:39.807Z"
   },
   {
    "duration": 11,
    "start_time": "2023-11-17T22:53:40.027Z"
   },
   {
    "duration": 389,
    "start_time": "2023-11-17T22:53:40.051Z"
   },
   {
    "duration": 17,
    "start_time": "2023-11-17T22:53:40.441Z"
   },
   {
    "duration": 232,
    "start_time": "2023-11-17T22:53:40.459Z"
   },
   {
    "duration": 12,
    "start_time": "2023-11-17T22:53:40.692Z"
   },
   {
    "duration": 303,
    "start_time": "2023-11-17T22:53:40.705Z"
   },
   {
    "duration": 10,
    "start_time": "2023-11-17T22:53:41.009Z"
   },
   {
    "duration": 147,
    "start_time": "2023-11-17T22:53:41.020Z"
   },
   {
    "duration": 5,
    "start_time": "2023-11-17T22:53:41.169Z"
   },
   {
    "duration": 147,
    "start_time": "2023-11-17T22:53:41.175Z"
   },
   {
    "duration": 3,
    "start_time": "2023-11-17T22:53:41.324Z"
   },
   {
    "duration": 101,
    "start_time": "2023-11-17T22:53:41.328Z"
   },
   {
    "duration": 90,
    "start_time": "2023-11-17T22:53:41.431Z"
   },
   {
    "duration": 34,
    "start_time": "2023-11-17T22:53:41.522Z"
   },
   {
    "duration": 143,
    "start_time": "2023-11-17T22:53:41.557Z"
   },
   {
    "duration": 10,
    "start_time": "2023-11-17T22:53:41.702Z"
   },
   {
    "duration": 58,
    "start_time": "2023-11-17T22:53:41.713Z"
   },
   {
    "duration": 9,
    "start_time": "2023-11-17T22:53:41.772Z"
   },
   {
    "duration": 9,
    "start_time": "2023-11-17T22:53:41.782Z"
   },
   {
    "duration": 6,
    "start_time": "2023-11-17T22:53:41.792Z"
   },
   {
    "duration": 24,
    "start_time": "2023-11-17T22:53:41.799Z"
   },
   {
    "duration": 35,
    "start_time": "2023-11-17T22:53:41.824Z"
   },
   {
    "duration": 1033,
    "start_time": "2023-11-17T23:07:50.482Z"
   },
   {
    "duration": 6,
    "start_time": "2023-11-17T23:07:51.517Z"
   },
   {
    "duration": 174,
    "start_time": "2023-11-17T23:07:51.525Z"
   },
   {
    "duration": 35,
    "start_time": "2023-11-17T23:07:51.701Z"
   },
   {
    "duration": 38,
    "start_time": "2023-11-17T23:07:51.738Z"
   },
   {
    "duration": 21,
    "start_time": "2023-11-17T23:07:51.777Z"
   },
   {
    "duration": 55,
    "start_time": "2023-11-17T23:07:51.799Z"
   },
   {
    "duration": 15,
    "start_time": "2023-11-17T23:07:51.855Z"
   },
   {
    "duration": 39,
    "start_time": "2023-11-17T23:07:51.871Z"
   },
   {
    "duration": 267,
    "start_time": "2023-11-17T23:07:51.911Z"
   },
   {
    "duration": 237,
    "start_time": "2023-11-17T23:07:52.180Z"
   },
   {
    "duration": 221,
    "start_time": "2023-11-17T23:07:52.418Z"
   },
   {
    "duration": 18,
    "start_time": "2023-11-17T23:07:52.640Z"
   },
   {
    "duration": 339,
    "start_time": "2023-11-17T23:07:52.660Z"
   },
   {
    "duration": 13,
    "start_time": "2023-11-17T23:07:53.000Z"
   },
   {
    "duration": 247,
    "start_time": "2023-11-17T23:07:53.014Z"
   },
   {
    "duration": 12,
    "start_time": "2023-11-17T23:07:53.263Z"
   },
   {
    "duration": 322,
    "start_time": "2023-11-17T23:07:53.276Z"
   },
   {
    "duration": 10,
    "start_time": "2023-11-17T23:07:53.600Z"
   },
   {
    "duration": 137,
    "start_time": "2023-11-17T23:07:53.611Z"
   },
   {
    "duration": 4,
    "start_time": "2023-11-17T23:07:53.749Z"
   },
   {
    "duration": 144,
    "start_time": "2023-11-17T23:07:53.755Z"
   },
   {
    "duration": 3,
    "start_time": "2023-11-17T23:07:53.901Z"
   },
   {
    "duration": 101,
    "start_time": "2023-11-17T23:07:53.906Z"
   },
   {
    "duration": 94,
    "start_time": "2023-11-17T23:07:54.009Z"
   },
   {
    "duration": 23,
    "start_time": "2023-11-17T23:07:54.105Z"
   },
   {
    "duration": 159,
    "start_time": "2023-11-17T23:07:54.130Z"
   },
   {
    "duration": 13,
    "start_time": "2023-11-17T23:07:54.291Z"
   },
   {
    "duration": 51,
    "start_time": "2023-11-17T23:07:54.306Z"
   },
   {
    "duration": 10,
    "start_time": "2023-11-17T23:07:54.358Z"
   },
   {
    "duration": 9,
    "start_time": "2023-11-17T23:07:54.369Z"
   },
   {
    "duration": 8,
    "start_time": "2023-11-17T23:07:54.380Z"
   },
   {
    "duration": 24,
    "start_time": "2023-11-17T23:07:54.390Z"
   },
   {
    "duration": 40,
    "start_time": "2023-11-17T23:07:54.415Z"
   },
   {
    "duration": 1096,
    "start_time": "2023-11-21T04:01:12.067Z"
   },
   {
    "duration": 8,
    "start_time": "2023-11-21T04:01:13.165Z"
   },
   {
    "duration": 281,
    "start_time": "2023-11-21T04:01:13.174Z"
   },
   {
    "duration": 35,
    "start_time": "2023-11-21T04:01:13.457Z"
   },
   {
    "duration": 35,
    "start_time": "2023-11-21T04:01:13.494Z"
   },
   {
    "duration": 22,
    "start_time": "2023-11-21T04:01:13.530Z"
   },
   {
    "duration": 33,
    "start_time": "2023-11-21T04:01:13.554Z"
   },
   {
    "duration": 58,
    "start_time": "2023-11-21T04:01:13.589Z"
   },
   {
    "duration": 38,
    "start_time": "2023-11-21T04:01:13.648Z"
   },
   {
    "duration": 20,
    "start_time": "2023-11-21T04:01:13.688Z"
   },
   {
    "duration": 25,
    "start_time": "2023-11-21T04:01:13.710Z"
   },
   {
    "duration": 60,
    "start_time": "2023-11-21T04:01:13.736Z"
   },
   {
    "duration": 14,
    "start_time": "2023-11-21T04:01:13.798Z"
   },
   {
    "duration": 11,
    "start_time": "2023-11-21T04:01:13.813Z"
   },
   {
    "duration": 6,
    "start_time": "2023-11-21T04:01:13.826Z"
   },
   {
    "duration": 61,
    "start_time": "2023-11-21T04:01:13.834Z"
   },
   {
    "duration": 22,
    "start_time": "2023-11-21T04:01:13.896Z"
   },
   {
    "duration": 271,
    "start_time": "2023-11-21T04:01:13.919Z"
   },
   {
    "duration": 237,
    "start_time": "2023-11-21T04:01:14.192Z"
   },
   {
    "duration": 229,
    "start_time": "2023-11-21T04:01:14.430Z"
   },
   {
    "duration": 10,
    "start_time": "2023-11-21T04:01:14.661Z"
   },
   {
    "duration": 369,
    "start_time": "2023-11-21T04:01:14.673Z"
   },
   {
    "duration": 14,
    "start_time": "2023-11-21T04:01:15.044Z"
   },
   {
    "duration": 241,
    "start_time": "2023-11-21T04:01:15.060Z"
   },
   {
    "duration": 12,
    "start_time": "2023-11-21T04:01:15.303Z"
   },
   {
    "duration": 313,
    "start_time": "2023-11-21T04:01:15.316Z"
   },
   {
    "duration": 10,
    "start_time": "2023-11-21T04:01:15.631Z"
   },
   {
    "duration": 133,
    "start_time": "2023-11-21T04:01:15.644Z"
   },
   {
    "duration": 4,
    "start_time": "2023-11-21T04:01:15.779Z"
   },
   {
    "duration": 205,
    "start_time": "2023-11-21T04:01:15.784Z"
   },
   {
    "duration": 4,
    "start_time": "2023-11-21T04:01:15.990Z"
   },
   {
    "duration": 147,
    "start_time": "2023-11-21T04:01:15.995Z"
   },
   {
    "duration": 14,
    "start_time": "2023-11-21T04:01:16.144Z"
   },
   {
    "duration": 40,
    "start_time": "2023-11-21T04:01:16.159Z"
   },
   {
    "duration": 14,
    "start_time": "2023-11-21T04:01:16.201Z"
   },
   {
    "duration": 14,
    "start_time": "2023-11-21T04:01:16.217Z"
   },
   {
    "duration": 16,
    "start_time": "2023-11-21T04:01:16.233Z"
   },
   {
    "duration": 39,
    "start_time": "2023-11-21T04:01:16.250Z"
   },
   {
    "duration": 13,
    "start_time": "2023-11-21T04:01:16.290Z"
   },
   {
    "duration": 1016,
    "start_time": "2023-11-21T04:10:23.715Z"
   },
   {
    "duration": 7,
    "start_time": "2023-11-21T04:10:24.732Z"
   },
   {
    "duration": 162,
    "start_time": "2023-11-21T04:10:24.740Z"
   },
   {
    "duration": 35,
    "start_time": "2023-11-21T04:10:24.904Z"
   },
   {
    "duration": 41,
    "start_time": "2023-11-21T04:10:24.941Z"
   },
   {
    "duration": 22,
    "start_time": "2023-11-21T04:10:24.983Z"
   },
   {
    "duration": 12,
    "start_time": "2023-11-21T04:10:25.006Z"
   },
   {
    "duration": 72,
    "start_time": "2023-11-21T04:10:25.020Z"
   },
   {
    "duration": 16,
    "start_time": "2023-11-21T04:10:25.094Z"
   },
   {
    "duration": 20,
    "start_time": "2023-11-21T04:10:25.112Z"
   },
   {
    "duration": 52,
    "start_time": "2023-11-21T04:10:25.134Z"
   },
   {
    "duration": 34,
    "start_time": "2023-11-21T04:10:25.187Z"
   },
   {
    "duration": 14,
    "start_time": "2023-11-21T04:10:25.222Z"
   },
   {
    "duration": 11,
    "start_time": "2023-11-21T04:10:25.237Z"
   },
   {
    "duration": 35,
    "start_time": "2023-11-21T04:10:25.249Z"
   },
   {
    "duration": 29,
    "start_time": "2023-11-21T04:10:25.285Z"
   },
   {
    "duration": 21,
    "start_time": "2023-11-21T04:10:25.315Z"
   },
   {
    "duration": 278,
    "start_time": "2023-11-21T04:10:25.337Z"
   },
   {
    "duration": 234,
    "start_time": "2023-11-21T04:10:25.616Z"
   },
   {
    "duration": 230,
    "start_time": "2023-11-21T04:10:25.852Z"
   },
   {
    "duration": 10,
    "start_time": "2023-11-21T04:10:26.083Z"
   },
   {
    "duration": 343,
    "start_time": "2023-11-21T04:10:26.094Z"
   },
   {
    "duration": 14,
    "start_time": "2023-11-21T04:10:26.438Z"
   },
   {
    "duration": 236,
    "start_time": "2023-11-21T04:10:26.453Z"
   },
   {
    "duration": 12,
    "start_time": "2023-11-21T04:10:26.691Z"
   },
   {
    "duration": 322,
    "start_time": "2023-11-21T04:10:26.704Z"
   },
   {
    "duration": 11,
    "start_time": "2023-11-21T04:10:27.028Z"
   },
   {
    "duration": 141,
    "start_time": "2023-11-21T04:10:27.043Z"
   },
   {
    "duration": 4,
    "start_time": "2023-11-21T04:10:27.186Z"
   },
   {
    "duration": 201,
    "start_time": "2023-11-21T04:10:27.191Z"
   },
   {
    "duration": 3,
    "start_time": "2023-11-21T04:10:27.393Z"
   },
   {
    "duration": 136,
    "start_time": "2023-11-21T04:10:27.397Z"
   },
   {
    "duration": 12,
    "start_time": "2023-11-21T04:10:27.534Z"
   },
   {
    "duration": 42,
    "start_time": "2023-11-21T04:10:27.547Z"
   },
   {
    "duration": 9,
    "start_time": "2023-11-21T04:10:27.590Z"
   },
   {
    "duration": 30,
    "start_time": "2023-11-21T04:10:27.600Z"
   },
   {
    "duration": 9,
    "start_time": "2023-11-21T04:10:27.631Z"
   },
   {
    "duration": 27,
    "start_time": "2023-11-21T04:10:27.641Z"
   },
   {
    "duration": 13,
    "start_time": "2023-11-21T04:10:27.669Z"
   },
   {
    "duration": 1341,
    "start_time": "2023-11-21T06:24:12.260Z"
   },
   {
    "duration": 8,
    "start_time": "2023-11-21T06:24:13.603Z"
   },
   {
    "duration": 344,
    "start_time": "2023-11-21T06:24:13.612Z"
   },
   {
    "duration": 42,
    "start_time": "2023-11-21T06:24:13.958Z"
   },
   {
    "duration": 66,
    "start_time": "2023-11-21T06:24:14.002Z"
   },
   {
    "duration": 26,
    "start_time": "2023-11-21T06:24:14.069Z"
   },
   {
    "duration": 15,
    "start_time": "2023-11-21T06:24:14.097Z"
   },
   {
    "duration": 112,
    "start_time": "2023-11-21T06:24:14.114Z"
   },
   {
    "duration": 18,
    "start_time": "2023-11-21T06:24:14.227Z"
   },
   {
    "duration": 36,
    "start_time": "2023-11-21T06:24:14.248Z"
   },
   {
    "duration": 30,
    "start_time": "2023-11-21T06:24:14.286Z"
   },
   {
    "duration": 65,
    "start_time": "2023-11-21T06:24:14.318Z"
   },
   {
    "duration": 17,
    "start_time": "2023-11-21T06:24:14.384Z"
   },
   {
    "duration": 23,
    "start_time": "2023-11-21T06:24:14.402Z"
   },
   {
    "duration": 32,
    "start_time": "2023-11-21T06:24:14.427Z"
   },
   {
    "duration": 44,
    "start_time": "2023-11-21T06:24:14.461Z"
   },
   {
    "duration": 24,
    "start_time": "2023-11-21T06:24:14.507Z"
   },
   {
    "duration": 322,
    "start_time": "2023-11-21T06:24:14.532Z"
   },
   {
    "duration": 280,
    "start_time": "2023-11-21T06:24:14.856Z"
   },
   {
    "duration": 267,
    "start_time": "2023-11-21T06:24:15.138Z"
   },
   {
    "duration": 11,
    "start_time": "2023-11-21T06:24:15.407Z"
   },
   {
    "duration": 470,
    "start_time": "2023-11-21T06:24:15.420Z"
   },
   {
    "duration": 20,
    "start_time": "2023-11-21T06:24:15.892Z"
   },
   {
    "duration": 288,
    "start_time": "2023-11-21T06:24:15.914Z"
   },
   {
    "duration": 15,
    "start_time": "2023-11-21T06:24:16.204Z"
   },
   {
    "duration": 388,
    "start_time": "2023-11-21T06:24:16.221Z"
   },
   {
    "duration": 12,
    "start_time": "2023-11-21T06:24:16.611Z"
   },
   {
    "duration": 158,
    "start_time": "2023-11-21T06:24:16.626Z"
   },
   {
    "duration": 4,
    "start_time": "2023-11-21T06:24:16.785Z"
   },
   {
    "duration": 236,
    "start_time": "2023-11-21T06:24:16.791Z"
   },
   {
    "duration": 4,
    "start_time": "2023-11-21T06:24:17.029Z"
   },
   {
    "duration": 151,
    "start_time": "2023-11-21T06:24:17.034Z"
   },
   {
    "duration": 16,
    "start_time": "2023-11-21T06:24:17.187Z"
   },
   {
    "duration": 38,
    "start_time": "2023-11-21T06:24:17.205Z"
   },
   {
    "duration": 28,
    "start_time": "2023-11-21T06:24:17.244Z"
   },
   {
    "duration": 23,
    "start_time": "2023-11-21T06:24:17.274Z"
   },
   {
    "duration": 22,
    "start_time": "2023-11-21T06:24:17.299Z"
   },
   {
    "duration": 30,
    "start_time": "2023-11-21T06:24:17.322Z"
   },
   {
    "duration": 14,
    "start_time": "2023-11-21T06:24:17.354Z"
   },
   {
    "duration": 13,
    "start_time": "2023-11-21T06:25:14.968Z"
   },
   {
    "duration": 10,
    "start_time": "2023-11-21T06:26:47.318Z"
   },
   {
    "duration": 18,
    "start_time": "2023-11-21T06:26:54.735Z"
   },
   {
    "duration": 11,
    "start_time": "2023-11-21T06:30:42.563Z"
   },
   {
    "duration": 1091,
    "start_time": "2023-11-21T07:44:06.261Z"
   },
   {
    "duration": 7,
    "start_time": "2023-11-21T07:44:07.354Z"
   },
   {
    "duration": 429,
    "start_time": "2023-11-21T07:44:07.365Z"
   },
   {
    "duration": 37,
    "start_time": "2023-11-21T07:44:07.796Z"
   },
   {
    "duration": 40,
    "start_time": "2023-11-21T07:44:07.834Z"
   },
   {
    "duration": 23,
    "start_time": "2023-11-21T07:44:07.875Z"
   },
   {
    "duration": 13,
    "start_time": "2023-11-21T07:44:07.899Z"
   },
   {
    "duration": 80,
    "start_time": "2023-11-21T07:44:07.914Z"
   },
   {
    "duration": 14,
    "start_time": "2023-11-21T07:44:07.995Z"
   },
   {
    "duration": 31,
    "start_time": "2023-11-21T07:44:08.011Z"
   },
   {
    "duration": 32,
    "start_time": "2023-11-21T07:44:08.044Z"
   },
   {
    "duration": 45,
    "start_time": "2023-11-21T07:44:08.077Z"
   },
   {
    "duration": 22,
    "start_time": "2023-11-21T07:44:08.123Z"
   },
   {
    "duration": 37,
    "start_time": "2023-11-21T07:44:08.147Z"
   },
   {
    "duration": 22,
    "start_time": "2023-11-21T07:44:08.186Z"
   },
   {
    "duration": 53,
    "start_time": "2023-11-21T07:44:08.209Z"
   },
   {
    "duration": 37,
    "start_time": "2023-11-21T07:44:08.263Z"
   },
   {
    "duration": 274,
    "start_time": "2023-11-21T07:44:08.301Z"
   },
   {
    "duration": 257,
    "start_time": "2023-11-21T07:44:08.577Z"
   },
   {
    "duration": 247,
    "start_time": "2023-11-21T07:44:08.836Z"
   },
   {
    "duration": 12,
    "start_time": "2023-11-21T07:44:09.085Z"
   },
   {
    "duration": 346,
    "start_time": "2023-11-21T07:44:09.098Z"
   },
   {
    "duration": 20,
    "start_time": "2023-11-21T07:44:09.446Z"
   },
   {
    "duration": 254,
    "start_time": "2023-11-21T07:44:09.468Z"
   },
   {
    "duration": 13,
    "start_time": "2023-11-21T07:44:09.724Z"
   },
   {
    "duration": 379,
    "start_time": "2023-11-21T07:44:09.738Z"
   },
   {
    "duration": 11,
    "start_time": "2023-11-21T07:44:10.119Z"
   },
   {
    "duration": 156,
    "start_time": "2023-11-21T07:44:10.134Z"
   },
   {
    "duration": 4,
    "start_time": "2023-11-21T07:44:10.291Z"
   },
   {
    "duration": 228,
    "start_time": "2023-11-21T07:44:10.304Z"
   },
   {
    "duration": 3,
    "start_time": "2023-11-21T07:44:10.534Z"
   },
   {
    "duration": 151,
    "start_time": "2023-11-21T07:44:10.539Z"
   },
   {
    "duration": 14,
    "start_time": "2023-11-21T07:44:10.691Z"
   },
   {
    "duration": 47,
    "start_time": "2023-11-21T07:44:10.707Z"
   },
   {
    "duration": 15,
    "start_time": "2023-11-21T07:44:10.755Z"
   },
   {
    "duration": 39,
    "start_time": "2023-11-21T07:44:10.771Z"
   },
   {
    "duration": 23,
    "start_time": "2023-11-21T07:44:10.811Z"
   },
   {
    "duration": 34,
    "start_time": "2023-11-21T07:44:10.836Z"
   },
   {
    "duration": 13,
    "start_time": "2023-11-21T07:44:10.871Z"
   },
   {
    "duration": 1105,
    "start_time": "2023-11-21T23:17:58.122Z"
   },
   {
    "duration": 6,
    "start_time": "2023-11-21T23:17:59.230Z"
   },
   {
    "duration": 284,
    "start_time": "2023-11-21T23:17:59.237Z"
   },
   {
    "duration": 41,
    "start_time": "2023-11-21T23:17:59.522Z"
   },
   {
    "duration": 38,
    "start_time": "2023-11-21T23:17:59.565Z"
   },
   {
    "duration": 49,
    "start_time": "2023-11-21T23:17:59.604Z"
   },
   {
    "duration": 13,
    "start_time": "2023-11-21T23:17:59.654Z"
   },
   {
    "duration": 80,
    "start_time": "2023-11-21T23:17:59.669Z"
   },
   {
    "duration": 16,
    "start_time": "2023-11-21T23:17:59.750Z"
   },
   {
    "duration": 21,
    "start_time": "2023-11-21T23:17:59.767Z"
   },
   {
    "duration": 50,
    "start_time": "2023-11-21T23:17:59.790Z"
   },
   {
    "duration": 37,
    "start_time": "2023-11-21T23:17:59.841Z"
   },
   {
    "duration": 15,
    "start_time": "2023-11-21T23:17:59.879Z"
   },
   {
    "duration": 47,
    "start_time": "2023-11-21T23:17:59.897Z"
   },
   {
    "duration": 7,
    "start_time": "2023-11-21T23:17:59.945Z"
   },
   {
    "duration": 28,
    "start_time": "2023-11-21T23:17:59.953Z"
   },
   {
    "duration": 51,
    "start_time": "2023-11-21T23:17:59.983Z"
   },
   {
    "duration": 269,
    "start_time": "2023-11-21T23:18:00.035Z"
   },
   {
    "duration": 243,
    "start_time": "2023-11-21T23:18:00.306Z"
   },
   {
    "duration": 239,
    "start_time": "2023-11-21T23:18:00.551Z"
   },
   {
    "duration": 13,
    "start_time": "2023-11-21T23:18:00.792Z"
   },
   {
    "duration": 435,
    "start_time": "2023-11-21T23:18:00.807Z"
   },
   {
    "duration": 15,
    "start_time": "2023-11-21T23:18:01.244Z"
   },
   {
    "duration": 259,
    "start_time": "2023-11-21T23:18:01.261Z"
   },
   {
    "duration": 22,
    "start_time": "2023-11-21T23:18:01.522Z"
   },
   {
    "duration": 362,
    "start_time": "2023-11-21T23:18:01.546Z"
   },
   {
    "duration": 10,
    "start_time": "2023-11-21T23:18:01.910Z"
   },
   {
    "duration": 160,
    "start_time": "2023-11-21T23:18:01.922Z"
   },
   {
    "duration": 4,
    "start_time": "2023-11-21T23:18:02.084Z"
   },
   {
    "duration": 229,
    "start_time": "2023-11-21T23:18:02.089Z"
   },
   {
    "duration": 11,
    "start_time": "2023-11-21T23:18:02.320Z"
   },
   {
    "duration": 264,
    "start_time": "2023-11-21T23:18:02.332Z"
   },
   {
    "duration": 16,
    "start_time": "2023-11-21T23:18:02.598Z"
   },
   {
    "duration": 30,
    "start_time": "2023-11-21T23:18:02.631Z"
   },
   {
    "duration": 10,
    "start_time": "2023-11-21T23:18:02.663Z"
   },
   {
    "duration": 36,
    "start_time": "2023-11-21T23:18:02.674Z"
   },
   {
    "duration": 30,
    "start_time": "2023-11-21T23:18:02.712Z"
   },
   {
    "duration": 45,
    "start_time": "2023-11-21T23:18:02.744Z"
   },
   {
    "duration": 13,
    "start_time": "2023-11-21T23:18:02.790Z"
   },
   {
    "duration": 12,
    "start_time": "2023-11-21T23:19:36.560Z"
   },
   {
    "duration": 15,
    "start_time": "2023-11-21T23:20:40.167Z"
   },
   {
    "duration": 1116,
    "start_time": "2023-11-21T23:21:58.706Z"
   },
   {
    "duration": 7,
    "start_time": "2023-11-21T23:21:59.824Z"
   },
   {
    "duration": 140,
    "start_time": "2023-11-21T23:21:59.832Z"
   },
   {
    "duration": 38,
    "start_time": "2023-11-21T23:21:59.974Z"
   },
   {
    "duration": 39,
    "start_time": "2023-11-21T23:22:00.014Z"
   },
   {
    "duration": 23,
    "start_time": "2023-11-21T23:22:00.055Z"
   },
   {
    "duration": 26,
    "start_time": "2023-11-21T23:22:00.080Z"
   },
   {
    "duration": 84,
    "start_time": "2023-11-21T23:22:00.107Z"
   },
   {
    "duration": 14,
    "start_time": "2023-11-21T23:22:00.193Z"
   },
   {
    "duration": 35,
    "start_time": "2023-11-21T23:22:00.208Z"
   },
   {
    "duration": 57,
    "start_time": "2023-11-21T23:22:00.245Z"
   },
   {
    "duration": 73,
    "start_time": "2023-11-21T23:22:00.304Z"
   },
   {
    "duration": 30,
    "start_time": "2023-11-21T23:22:00.379Z"
   },
   {
    "duration": 61,
    "start_time": "2023-11-21T23:22:00.412Z"
   },
   {
    "duration": 58,
    "start_time": "2023-11-21T23:22:00.474Z"
   },
   {
    "duration": 58,
    "start_time": "2023-11-21T23:22:00.533Z"
   },
   {
    "duration": 61,
    "start_time": "2023-11-21T23:22:00.592Z"
   },
   {
    "duration": 296,
    "start_time": "2023-11-21T23:22:00.655Z"
   },
   {
    "duration": 283,
    "start_time": "2023-11-21T23:22:00.952Z"
   },
   {
    "duration": 244,
    "start_time": "2023-11-21T23:22:01.237Z"
   },
   {
    "duration": 13,
    "start_time": "2023-11-21T23:22:01.482Z"
   },
   {
    "duration": 424,
    "start_time": "2023-11-21T23:22:01.496Z"
   },
   {
    "duration": 20,
    "start_time": "2023-11-21T23:22:01.922Z"
   },
   {
    "duration": 278,
    "start_time": "2023-11-21T23:22:01.943Z"
   },
   {
    "duration": 14,
    "start_time": "2023-11-21T23:22:02.231Z"
   },
   {
    "duration": 356,
    "start_time": "2023-11-21T23:22:02.247Z"
   },
   {
    "duration": 10,
    "start_time": "2023-11-21T23:22:02.605Z"
   },
   {
    "duration": 150,
    "start_time": "2023-11-21T23:22:02.616Z"
   },
   {
    "duration": 4,
    "start_time": "2023-11-21T23:22:02.767Z"
   },
   {
    "duration": 251,
    "start_time": "2023-11-21T23:22:02.772Z"
   },
   {
    "duration": 7,
    "start_time": "2023-11-21T23:22:03.024Z"
   },
   {
    "duration": 137,
    "start_time": "2023-11-21T23:22:03.032Z"
   },
   {
    "duration": 15,
    "start_time": "2023-11-21T23:22:03.171Z"
   },
   {
    "duration": 45,
    "start_time": "2023-11-21T23:22:03.188Z"
   },
   {
    "duration": 11,
    "start_time": "2023-11-21T23:22:03.235Z"
   },
   {
    "duration": 9,
    "start_time": "2023-11-21T23:22:03.248Z"
   },
   {
    "duration": 9,
    "start_time": "2023-11-21T23:22:03.258Z"
   },
   {
    "duration": 25,
    "start_time": "2023-11-21T23:22:03.268Z"
   },
   {
    "duration": 45,
    "start_time": "2023-11-21T23:22:03.294Z"
   },
   {
    "duration": 1112,
    "start_time": "2023-11-21T23:27:51.298Z"
   },
   {
    "duration": 6,
    "start_time": "2023-11-21T23:27:52.412Z"
   },
   {
    "duration": 155,
    "start_time": "2023-11-21T23:27:52.419Z"
   },
   {
    "duration": 37,
    "start_time": "2023-11-21T23:27:52.576Z"
   },
   {
    "duration": 38,
    "start_time": "2023-11-21T23:27:52.615Z"
   },
   {
    "duration": 22,
    "start_time": "2023-11-21T23:27:52.655Z"
   },
   {
    "duration": 12,
    "start_time": "2023-11-21T23:27:52.678Z"
   },
   {
    "duration": 79,
    "start_time": "2023-11-21T23:27:52.691Z"
   },
   {
    "duration": 13,
    "start_time": "2023-11-21T23:27:52.772Z"
   },
   {
    "duration": 20,
    "start_time": "2023-11-21T23:27:52.787Z"
   },
   {
    "duration": 45,
    "start_time": "2023-11-21T23:27:52.808Z"
   },
   {
    "duration": 36,
    "start_time": "2023-11-21T23:27:52.854Z"
   },
   {
    "duration": 44,
    "start_time": "2023-11-21T23:27:52.891Z"
   },
   {
    "duration": 13,
    "start_time": "2023-11-21T23:27:52.937Z"
   },
   {
    "duration": 8,
    "start_time": "2023-11-21T23:27:52.951Z"
   },
   {
    "duration": 28,
    "start_time": "2023-11-21T23:27:52.960Z"
   },
   {
    "duration": 48,
    "start_time": "2023-11-21T23:27:52.990Z"
   },
   {
    "duration": 274,
    "start_time": "2023-11-21T23:27:53.039Z"
   },
   {
    "duration": 239,
    "start_time": "2023-11-21T23:27:53.314Z"
   },
   {
    "duration": 234,
    "start_time": "2023-11-21T23:27:53.555Z"
   },
   {
    "duration": 12,
    "start_time": "2023-11-21T23:27:53.790Z"
   },
   {
    "duration": 372,
    "start_time": "2023-11-21T23:27:53.804Z"
   },
   {
    "duration": 13,
    "start_time": "2023-11-21T23:27:54.178Z"
   },
   {
    "duration": 260,
    "start_time": "2023-11-21T23:27:54.193Z"
   },
   {
    "duration": 14,
    "start_time": "2023-11-21T23:27:54.455Z"
   },
   {
    "duration": 329,
    "start_time": "2023-11-21T23:27:54.470Z"
   },
   {
    "duration": 10,
    "start_time": "2023-11-21T23:27:54.801Z"
   },
   {
    "duration": 140,
    "start_time": "2023-11-21T23:27:54.813Z"
   },
   {
    "duration": 4,
    "start_time": "2023-11-21T23:27:54.955Z"
   },
   {
    "duration": 210,
    "start_time": "2023-11-21T23:27:54.960Z"
   },
   {
    "duration": 4,
    "start_time": "2023-11-21T23:27:55.172Z"
   },
   {
    "duration": 128,
    "start_time": "2023-11-21T23:27:55.177Z"
   },
   {
    "duration": 26,
    "start_time": "2023-11-21T23:27:55.307Z"
   },
   {
    "duration": 24,
    "start_time": "2023-11-21T23:27:55.335Z"
   },
   {
    "duration": 9,
    "start_time": "2023-11-21T23:27:55.361Z"
   },
   {
    "duration": 11,
    "start_time": "2023-11-21T23:27:55.372Z"
   },
   {
    "duration": 9,
    "start_time": "2023-11-21T23:27:55.384Z"
   },
   {
    "duration": 54,
    "start_time": "2023-11-21T23:27:55.394Z"
   },
   {
    "duration": 16,
    "start_time": "2023-11-21T23:27:55.450Z"
   }
  ],
  "kernelspec": {
   "display_name": "Python 3 (ipykernel)",
   "language": "python",
   "name": "python3"
  },
  "language_info": {
   "codemirror_mode": {
    "name": "ipython",
    "version": 3
   },
   "file_extension": ".py",
   "mimetype": "text/x-python",
   "name": "python",
   "nbconvert_exporter": "python",
   "pygments_lexer": "ipython3",
   "version": "3.9.18"
  },
  "toc": {
   "base_numbering": 1,
   "nav_menu": {},
   "number_sections": true,
   "sideBar": true,
   "skip_h1_title": true,
   "title_cell": "Table of Contents",
   "title_sidebar": "Contents",
   "toc_cell": false,
   "toc_position": {
    "height": "calc(100% - 180px)",
    "left": "10px",
    "top": "150px",
    "width": "297.562px"
   },
   "toc_section_display": true,
   "toc_window_display": false
  }
 },
 "nbformat": 4,
 "nbformat_minor": 4
}
